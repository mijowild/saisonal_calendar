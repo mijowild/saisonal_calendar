{
 "cells": [
  {
   "cell_type": "code",
   "execution_count": 1,
   "metadata": {
    "collapsed": true
   },
   "outputs": [],
   "source": [
    "website = 'https://www.alnatura.de/de-de/kochen-und-geniessen/saisonkalender?bnt=clndr'"
   ]
  },
  {
   "cell_type": "code",
   "execution_count": 2,
   "metadata": {
    "collapsed": false
   },
   "outputs": [],
   "source": [
    "from bs4 import BeautifulSoup\n",
    "import requests\n",
    "import calendar\n",
    "import re\n",
    "from IPython.display import display, Image\n"
   ]
  },
  {
   "cell_type": "code",
   "execution_count": 3,
   "metadata": {
    "collapsed": false
   },
   "outputs": [
    {
     "name": "stderr",
     "output_type": "stream",
     "text": [
      "C:\\Miniconda3\\lib\\site-packages\\bs4\\__init__.py:181: UserWarning: No parser was explicitly specified, so I'm using the best available HTML parser for this system (\"html5lib\"). This usually isn't a problem, but if you run this code on another system, or in a different virtual environment, it may use a different parser and behave differently.\n",
      "\n",
      "The code that caused this warning is on line 170 of the file C:\\Miniconda3\\lib\\runpy.py. To get rid of this warning, change code that looks like this:\n",
      "\n",
      " BeautifulSoup([your markup])\n",
      "\n",
      "to this:\n",
      "\n",
      " BeautifulSoup([your markup], \"html5lib\")\n",
      "\n",
      "  markup_type=markup_type))\n"
     ]
    }
   ],
   "source": [
    "results = requests.get(website)\n",
    "c = results.content\n",
    "soup = BeautifulSoup(c)\n",
    "months = soup.find_all('div', 'month')\n",
    "monthnames = list(calendar.month_name)[1:]"
   ]
  },
  {
   "cell_type": "code",
   "execution_count": 4,
   "metadata": {
    "collapsed": false
   },
   "outputs": [],
   "source": [
    "mm = [monthnames[i] for i in [2, 6, 11]]"
   ]
  },
  {
   "cell_type": "code",
   "execution_count": 4,
   "metadata": {
    "collapsed": false
   },
   "outputs": [],
   "source": [
    "mm = [monthnames[i] for i in [2, 6, 11]]"
   ]
  },
  {
   "cell_type": "code",
   "execution_count": 5,
   "metadata": {
    "collapsed": false
   },
   "outputs": [
    {
     "name": "stdout",
     "output_type": "stream",
     "text": [
      "March\n",
      "    viel\n",
      "        1 Feldsalat\n",
      "    wenig\n",
      "        2 Chicoree\n",
      "        3 Gruenkohl\n",
      "        4 Lauch\n",
      "        5 Spinat\n",
      "        6 Wirsing\n",
      "\n",
      "July\n",
      "    viel\n",
      "        1 Bataviasalat\n",
      "        2 Blumenkohl\n",
      "        3 DickeBohnen\n",
      "        4 Bohnen\n",
      "        5 Broccoli\n",
      "        6 Brombeere\n",
      "        7 Eichblattsalat\n",
      "        8 Eisbergsalat\n",
      "        9 Erbsen\n",
      "        10 Erdbeere\n",
      "        11 Gurken\n",
      "        12 Heidelbeere\n",
      "        13 Himbeere\n",
      "        14 Johannisbeere\n",
      "        15 Sauerkirschen\n",
      "        16 Suesskirschen\n",
      "        17 Kohlrabi\n",
      "        18 Kopfsalat\n",
      "        19 LolloRosso\n",
      "        20 Mais\n",
      "        21 Mangold\n",
      "        22 Mirabelle\n",
      "        23 Moehren\n",
      "        24 Postelein\n",
      "        25 Pflaume\n",
      "        26 Radischen\n",
      "        27 Rettich\n",
      "        28 Stachelbeeren\n",
      "        29 Stangensellerie\n",
      "        30 Wirsing\n",
      "        31 Zuccini\n",
      "    wenig\n",
      "        32 Apfel\n",
      "        33 Aubergine\n",
      "        34 Chinakohl\n",
      "        35 Endivie\n",
      "        36 Fenchel\n",
      "        37 Kartoffel\n",
      "        38 Lauch\n",
      "        39 Paprika\n",
      "        40 Rotkohl\n",
      "        41 Spinat\n",
      "        42 Tomaten\n",
      "        43 Spitzkohl\n",
      "        44 Zwiebeln\n",
      "\n",
      "December\n",
      "    viel\n",
      "        1 Chicoree\n",
      "        2 Feldsalat\n",
      "        3 Gruenkohl\n",
      "        4 Rosenkohl\n",
      "    wenig\n",
      "        5 Chinakohl\n",
      "        6 Endivie\n",
      "        7 Kuerbis\n",
      "        8 Postelein\n",
      "        9 Patinaken\n",
      "        10 Spinat\n",
      "        11 Wirsing\n",
      "\n"
     ]
    }
   ],
   "source": [
    "for mn, m in zip(monthnames, months):\n",
    "    if mn not in mm:\n",
    "        continue\n",
    "    print(mn)\n",
    "    \n",
    "    viel, wenig, _ = m.find_all('ul')\n",
    "    nr = 1\n",
    "    for subn, sub in zip('viel, wenig'. split(', '), [viel, wenig]): \n",
    "        print('    '+subn)\n",
    "        for it in sub.find_all('li'):\n",
    "            res = it.find_all('a')[0].decode()\n",
    "            result = re.findall(r'\\/\\w*\\s*\\w*\\.png', res)[0].split()[0][1:]\n",
    "            print('        ' +str(nr)+' '+result)\n",
    "            nr+=1\n",
    "    print()"
   ]
  },
  {
   "cell_type": "code",
   "execution_count": 6,
   "metadata": {
    "collapsed": false
   },
   "outputs": [],
   "source": [
    "import urllib.request as urllib2\n",
    "import json\n",
    "def get_soup(url,header):\n",
    "    return BeautifulSoup(urllib2.urlopen(urllib2.Request(url,headers=header)),'html.parser')\n",
    "def get_images(name, nr):\n",
    "    url=\"https://www.google.co.in/search?q=\"+name+\"&source=lnms&tbm=isch\"\n",
    "    #add the directory for your image here\n",
    "    header={'User-Agent':\"Mozilla/5.0 (Windows NT 6.1; WOW64) AppleWebKit/537.36 (KHTML, like Gecko) Chrome/43.0.2357.134 Safari/537.36\"\n",
    "    }\n",
    "    soup = get_soup(url,header)\n",
    "\n",
    "    ActualImages=[]# contains the link for Large original images, type of  image\n",
    "    for na, a in enumerate(soup.find_all(\"div\",{\"class\":\"rg_meta\"})):\n",
    "        if na > nr:\n",
    "            break\n",
    "        link , Type =json.loads(a.text)[\"ou\"]  ,json.loads(a.text)[\"ity\"]\n",
    "        ActualImages.append((link,Type))\n",
    "    return ActualImages"
   ]
  },
  {
   "cell_type": "code",
   "execution_count": 7,
   "metadata": {
    "collapsed": false,
    "scrolled": false
   },
   "outputs": [
    {
     "name": "stdout",
     "output_type": "stream",
     "text": [
      "March\n",
      "    viel\n",
      "        Feldsalat\n"
     ]
    },
    {
     "data": {
      "text/html": [
       "<img src=\"https://images.eatsmarter.de/sites/default/files/styles/facebook/public/feldsalat_576x432.jpg\"/>"
      ],
      "text/plain": [
       "<IPython.core.display.Image object>"
      ]
     },
     "metadata": {},
     "output_type": "display_data"
    },
    {
     "data": {
      "text/html": [
       "<img src=\"https://static.essen-und-trinken.de/bilder/5f/a7/5372/galleryimage/5327756f577874da08803e028c7121d7.jpg\"/>"
      ],
      "text/plain": [
       "<IPython.core.display.Image object>"
      ]
     },
     "metadata": {},
     "output_type": "display_data"
    },
    {
     "data": {
      "text/html": [
       "<img src=\"http://www.pastaweb.de/wp-content/uploads/2016/02/feldsalat.jpg\"/>"
      ],
      "text/plain": [
       "<IPython.core.display.Image object>"
      ]
     },
     "metadata": {},
     "output_type": "display_data"
    },
    {
     "name": "stdout",
     "output_type": "stream",
     "text": [
      "    wenig\n",
      "        Chicoree\n"
     ]
    },
    {
     "data": {
      "text/html": [
       "<img src=\"https://images.eatsmarter.de/sites/default/files/styles/576x432/public/images/warenkunde-chicoree-341x256.jpg\"/>"
      ],
      "text/plain": [
       "<IPython.core.display.Image object>"
      ]
     },
     "metadata": {},
     "output_type": "display_data"
    },
    {
     "data": {
      "text/html": [
       "<img src=\"https://www.lebensmittellexikon.de/bilder/chicoree.jpg.gz\"/>"
      ],
      "text/plain": [
       "<IPython.core.display.Image object>"
      ]
     },
     "metadata": {},
     "output_type": "display_data"
    },
    {
     "data": {
      "text/html": [
       "<img src=\"http://www.worldsoffood.de/media/k2/items/cache/bbf41833b752756eb34a4e07961dc06c_L.jpg\"/>"
      ],
      "text/plain": [
       "<IPython.core.display.Image object>"
      ]
     },
     "metadata": {},
     "output_type": "display_data"
    },
    {
     "name": "stdout",
     "output_type": "stream",
     "text": [
      "        Gruenkohl\n"
     ]
    },
    {
     "data": {
      "text/html": [
       "<img src=\"https://static.chefkoch-cdn.de/ck.de/rezepte/23/23710/792035-960x720-gruenkohl-wie-ihn-mutter-kochte.jpg\"/>"
      ],
      "text/plain": [
       "<IPython.core.display.Image object>"
      ]
     },
     "metadata": {},
     "output_type": "display_data"
    },
    {
     "data": {
      "text/html": [
       "<img src=\"https://static.chefkoch-cdn.de/ck.de/rezepte/119/119646/520966-960x720-gruenkohl-mit-kasseler-mettwuerstchen-und-kartoffeln.jpg\"/>"
      ],
      "text/plain": [
       "<IPython.core.display.Image object>"
      ]
     },
     "metadata": {},
     "output_type": "display_data"
    },
    {
     "data": {
      "text/html": [
       "<img src=\"https://images.eatsmarter.de/sites/default/files/styles/576x432/public/images/warenkunde-gruenkohl_341x256px.jpg\"/>"
      ],
      "text/plain": [
       "<IPython.core.display.Image object>"
      ]
     },
     "metadata": {},
     "output_type": "display_data"
    },
    {
     "name": "stdout",
     "output_type": "stream",
     "text": [
      "        Lauch\n"
     ]
    },
    {
     "data": {
      "text/html": [
       "<img src=\"http://www.gemuese.ch/Ressourcen/Bilder/Gemusearten/Gemusebilder-Header/Headerbilder_Saisonkalender_Lauch-de.jpg\"/>"
      ],
      "text/plain": [
       "<IPython.core.display.Image object>"
      ]
     },
     "metadata": {},
     "output_type": "display_data"
    },
    {
     "data": {
      "text/html": [
       "<img src=\"https://media.istockphoto.com/photos/leek-picture-id172164051?k=6&m=172164051&s=612x612&w=0&h=UuAfYSbaOiaMRYcVcAyiZpGoBBdCA6QT0keN2_DGSg8=\"/>"
      ],
      "text/plain": [
       "<IPython.core.display.Image object>"
      ]
     },
     "metadata": {},
     "output_type": "display_data"
    },
    {
     "data": {
      "text/html": [
       "<img src=\"https://media.istockphoto.com/photos/fresh-leeks-picture-id457448889?k=6&m=457448889&s=612x612&w=0&h=4ngIJNPuQYS8KGDREPdqCM-Jb2lPDFJVP5TcRbzU98A=\"/>"
      ],
      "text/plain": [
       "<IPython.core.display.Image object>"
      ]
     },
     "metadata": {},
     "output_type": "display_data"
    },
    {
     "name": "stdout",
     "output_type": "stream",
     "text": [
      "        Spinat\n"
     ]
    },
    {
     "data": {
      "text/html": [
       "<img src=\"https://images.eatsmarter.de/sites/default/files/styles/576x432/public/warenkunde-spinat-300x225.jpg\"/>"
      ],
      "text/plain": [
       "<IPython.core.display.Image object>"
      ]
     },
     "metadata": {},
     "output_type": "display_data"
    },
    {
     "data": {
      "text/html": [
       "<img src=\"https://static.chefkoch-cdn.de/ck.de/rezepte/115/115192/507198-960x720-spinat.jpg\"/>"
      ],
      "text/plain": [
       "<IPython.core.display.Image object>"
      ]
     },
     "metadata": {},
     "output_type": "display_data"
    },
    {
     "data": {
      "text/html": [
       "<img src=\"https://vitamine-7ad1.kxcdn.com/thumbs/lebensmittel/spinat/vitamine-spinat-350x234-min.jpg\"/>"
      ],
      "text/plain": [
       "<IPython.core.display.Image object>"
      ]
     },
     "metadata": {},
     "output_type": "display_data"
    },
    {
     "name": "stdout",
     "output_type": "stream",
     "text": [
      "        Wirsing\n"
     ]
    },
    {
     "data": {
      "text/html": [
       "<img src=\"https://static.essen-und-trinken.de/bilder/dc/cb/6148/galleryimage/c57bd05809847908db8e5307ce519b56.jpg\"/>"
      ],
      "text/plain": [
       "<IPython.core.display.Image object>"
      ]
     },
     "metadata": {},
     "output_type": "display_data"
    },
    {
     "data": {
      "text/html": [
       "<img src=\"https://static.chefkoch-cdn.de/ck.de/rezepte/42/42846/872834-420x280-fix-wirsing-eintopf.jpg\"/>"
      ],
      "text/plain": [
       "<IPython.core.display.Image object>"
      ]
     },
     "metadata": {},
     "output_type": "display_data"
    },
    {
     "data": {
      "text/html": [
       "<img src=\"http://lebensmittel-warenkunde.de/assets/images/gemueseprodukte/wirsing.jpg\"/>"
      ],
      "text/plain": [
       "<IPython.core.display.Image object>"
      ]
     },
     "metadata": {},
     "output_type": "display_data"
    },
    {
     "name": "stdout",
     "output_type": "stream",
     "text": [
      "    lager\n",
      "        Apfel\n"
     ]
    },
    {
     "data": {
      "text/html": [
       "<img src=\"https://www.uzuma.de/img/cms/Uzuma/Ingredients/Apple/GE/Apfel1.jpg\"/>"
      ],
      "text/plain": [
       "<IPython.core.display.Image object>"
      ]
     },
     "metadata": {},
     "output_type": "display_data"
    },
    {
     "data": {
      "text/html": [
       "<img src=\"https://cdn.gruenesmoothies.org/wp-content/uploads/56634773_apfel-klein.jpg\"/>"
      ],
      "text/plain": [
       "<IPython.core.display.Image object>"
      ]
     },
     "metadata": {},
     "output_type": "display_data"
    },
    {
     "data": {
      "text/html": [
       "<img src=\"https://images.eatsmarter.de/sites/default/files/styles/576x432/public/images/aepfel-341x256.jpg\"/>"
      ],
      "text/plain": [
       "<IPython.core.display.Image object>"
      ]
     },
     "metadata": {},
     "output_type": "display_data"
    },
    {
     "name": "stdout",
     "output_type": "stream",
     "text": [
      "        Kartoffel\n"
     ]
    },
    {
     "data": {
      "text/html": [
       "<img src=\"https://images.eatsmarter.de/sites/default/files/styles/576x432/public/warenkunde-kartoffeln-600x450.jpg\"/>"
      ],
      "text/plain": [
       "<IPython.core.display.Image object>"
      ]
     },
     "metadata": {},
     "output_type": "display_data"
    },
    {
     "data": {
      "text/html": [
       "<img src=\"https://upload.wikimedia.org/wikipedia/commons/d/d9/Kartoffeln_Sorte_Nicola.jpg\"/>"
      ],
      "text/plain": [
       "<IPython.core.display.Image object>"
      ]
     },
     "metadata": {},
     "output_type": "display_data"
    },
    {
     "data": {
      "text/html": [
       "<img src=\"https://image.brigitte.de/10834782/uncropped-0-0/ed73b7c855c996720d2d98d38d26d210/LD/kartoffel.jpg\"/>"
      ],
      "text/plain": [
       "<IPython.core.display.Image object>"
      ]
     },
     "metadata": {},
     "output_type": "display_data"
    },
    {
     "name": "stdout",
     "output_type": "stream",
     "text": [
      "        Moehren\n"
     ]
    },
    {
     "data": {
      "text/html": [
       "<img src=\"https://images.eatsmarter.de/sites/default/files/styles/576x432/public/images/moehren-341x256.jpg\"/>"
      ],
      "text/plain": [
       "<IPython.core.display.Image object>"
      ]
     },
     "metadata": {},
     "output_type": "display_data"
    },
    {
     "data": {
      "text/html": [
       "<img src=\"https://images.eatsmarter.de/sites/default/files/styles/facebook/public/images/moehren-gut-fuer-die-augen-341x256.jpg\"/>"
      ],
      "text/plain": [
       "<IPython.core.display.Image object>"
      ]
     },
     "metadata": {},
     "output_type": "display_data"
    },
    {
     "data": {
      "text/html": [
       "<img src=\"https://www.rezepte-und-tipps.de/Lebensmittel/Gemuese/Moehren/Bilder/Moehren.jpg\"/>"
      ],
      "text/plain": [
       "<IPython.core.display.Image object>"
      ]
     },
     "metadata": {},
     "output_type": "display_data"
    },
    {
     "name": "stdout",
     "output_type": "stream",
     "text": [
      "        Patinaken\n"
     ]
    },
    {
     "data": {
      "text/html": [
       "<img src=\"https://mh-1-bildagentur.panthermedia.net/media/previews/0008000000/08025000/~patinaken_08025946_high.jpg\"/>"
      ],
      "text/plain": [
       "<IPython.core.display.Image object>"
      ]
     },
     "metadata": {},
     "output_type": "display_data"
    },
    {
     "data": {
      "text/html": [
       "<img src=\"http://c8.alamy.com/comp/HHNJD7/patinaken-HHNJD7.jpg\"/>"
      ],
      "text/plain": [
       "<IPython.core.display.Image object>"
      ]
     },
     "metadata": {},
     "output_type": "display_data"
    },
    {
     "data": {
      "text/html": [
       "<img src=\"http://c8.alamy.com/comp/HHNJ9G/patinaken-HHNJ9G.jpg\"/>"
      ],
      "text/plain": [
       "<IPython.core.display.Image object>"
      ]
     },
     "metadata": {},
     "output_type": "display_data"
    },
    {
     "name": "stdout",
     "output_type": "stream",
     "text": [
      "        Rote_Beete\n"
     ]
    },
    {
     "data": {
      "text/html": [
       "<img src=\"https://www.wunderweib.de/assets/styles/article_image/public/field/image/991/rote-beete.jpg?itok=k82_JFIg\"/>"
      ],
      "text/plain": [
       "<IPython.core.display.Image object>"
      ]
     },
     "metadata": {},
     "output_type": "display_data"
    },
    {
     "data": {
      "text/html": [
       "<img src=\"http://www.wbehrens.com/uploads/pics/rote_beete.jpg\"/>"
      ],
      "text/plain": [
       "<IPython.core.display.Image object>"
      ]
     },
     "metadata": {},
     "output_type": "display_data"
    },
    {
     "data": {
      "text/html": [
       "<img src=\"https://snack-mich.de/img/cms/rote-beete-chips/reife-rote-beete.jpg\"/>"
      ],
      "text/plain": [
       "<IPython.core.display.Image object>"
      ]
     },
     "metadata": {},
     "output_type": "display_data"
    },
    {
     "name": "stdout",
     "output_type": "stream",
     "text": [
      "        Rotkohl\n"
     ]
    },
    {
     "data": {
      "text/html": [
       "<img src=\"https://static.chefkoch-cdn.de/ck.de/rezepte/164/164844/880115-420x280-fix-blaukraut-rotkraut-rotkohl.jpg\"/>"
      ],
      "text/plain": [
       "<IPython.core.display.Image object>"
      ]
     },
     "metadata": {},
     "output_type": "display_data"
    },
    {
     "data": {
      "text/html": [
       "<img src=\"https://static.chefkoch-cdn.de/ck.de/rezepte/10/10942/531488-420x280-fix-rotkohl.jpg\"/>"
      ],
      "text/plain": [
       "<IPython.core.display.Image object>"
      ]
     },
     "metadata": {},
     "output_type": "display_data"
    },
    {
     "data": {
      "text/html": [
       "<img src=\"http://www.lecker.de/assets/field/image/rotkohl-selber-machen-b.jpg\"/>"
      ],
      "text/plain": [
       "<IPython.core.display.Image object>"
      ]
     },
     "metadata": {},
     "output_type": "display_data"
    },
    {
     "name": "stdout",
     "output_type": "stream",
     "text": [
      "        Schwarzwurzeln\n"
     ]
    },
    {
     "data": {
      "text/html": [
       "<img src=\"https://www.kuechengoetter.de/uploads/media/630x630/01/48731-schwarzwurzeln-in-zitronenrahm.jpg?v=1-0\"/>"
      ],
      "text/plain": [
       "<IPython.core.display.Image object>"
      ]
     },
     "metadata": {},
     "output_type": "display_data"
    },
    {
     "data": {
      "text/html": [
       "<img src=\"https://static.chefkoch-cdn.de/ck.de/rezepte/74/74782/94325-960x720-schwarzwurzeln-in-zitronensosse.jpg\"/>"
      ],
      "text/plain": [
       "<IPython.core.display.Image object>"
      ]
     },
     "metadata": {},
     "output_type": "display_data"
    },
    {
     "data": {
      "text/html": [
       "<img src=\"https://static.chefkoch-cdn.de/ck.de/rezepte/85/85437/90583-960x720-schwarzwurzeln-in-buttersosse.jpg\"/>"
      ],
      "text/plain": [
       "<IPython.core.display.Image object>"
      ]
     },
     "metadata": {},
     "output_type": "display_data"
    },
    {
     "name": "stdout",
     "output_type": "stream",
     "text": [
      "        Sellerieknollen\n"
     ]
    },
    {
     "data": {
      "text/html": [
       "<img src=\"http://buuregarte.ch/wp-content/uploads/2017/07/Sellerie-Knollen.jpg\"/>"
      ],
      "text/plain": [
       "<IPython.core.display.Image object>"
      ]
     },
     "metadata": {},
     "output_type": "display_data"
    },
    {
     "data": {
      "text/html": [
       "<img src=\"http://www.hortipendium.de/images/thumb/b/b3/Sellerieknollen.JPG/250px-Sellerieknollen.JPG\"/>"
      ],
      "text/plain": [
       "<IPython.core.display.Image object>"
      ]
     },
     "metadata": {},
     "output_type": "display_data"
    },
    {
     "data": {
      "text/html": [
       "<img src=\"https://www.alnatura.de/~/media/Saisonkalender/Sellerieknollen.png?h=130&la=de-DE&w=130\"/>"
      ],
      "text/plain": [
       "<IPython.core.display.Image object>"
      ]
     },
     "metadata": {},
     "output_type": "display_data"
    },
    {
     "name": "stdout",
     "output_type": "stream",
     "text": [
      "        Spitzkohl\n"
     ]
    },
    {
     "data": {
      "text/html": [
       "<img src=\"https://static.essen-und-trinken.de/bilder/2d/93/17846/galleryimage/84f36fce7ab636af61c69c4e02b9dfd1.jpg\"/>"
      ],
      "text/plain": [
       "<IPython.core.display.Image object>"
      ]
     },
     "metadata": {},
     "output_type": "display_data"
    },
    {
     "data": {
      "text/html": [
       "<img src=\"https://images.eatsmarter.de/sites/default/files/styles/576x432/public/images/warenkunde-spitzkohl-341x256px.jpg\"/>"
      ],
      "text/plain": [
       "<IPython.core.display.Image object>"
      ]
     },
     "metadata": {},
     "output_type": "display_data"
    },
    {
     "data": {
      "text/html": [
       "<img src=\"https://upload.wikimedia.org/wikipedia/commons/thumb/c/c7/Spitzkohl-2.jpg/1200px-Spitzkohl-2.jpg\"/>"
      ],
      "text/plain": [
       "<IPython.core.display.Image object>"
      ]
     },
     "metadata": {},
     "output_type": "display_data"
    },
    {
     "name": "stdout",
     "output_type": "stream",
     "text": [
      "        Zwiebeln\n"
     ]
    },
    {
     "data": {
      "text/html": [
       "<img src=\"http://lebensmittel-warenkunde.de/assets/images/gemueseprodukte/zwiebeln.jpg\"/>"
      ],
      "text/plain": [
       "<IPython.core.display.Image object>"
      ]
     },
     "metadata": {},
     "output_type": "display_data"
    },
    {
     "data": {
      "text/html": [
       "<img src=\"https://www.swr.de/-/id=16698934/property=full/1qjgins/Zwiebel.gif\"/>"
      ],
      "text/plain": [
       "<IPython.core.display.Image object>"
      ]
     },
     "metadata": {},
     "output_type": "display_data"
    },
    {
     "data": {
      "text/html": [
       "<img src=\"https://images.eatsmarter.de/sites/default/files/styles/576x432/public/images/zwiebeln-gesund-341x256.jpg\"/>"
      ],
      "text/plain": [
       "<IPython.core.display.Image object>"
      ]
     },
     "metadata": {},
     "output_type": "display_data"
    },
    {
     "name": "stdout",
     "output_type": "stream",
     "text": [
      "\n",
      "July\n",
      "    viel\n",
      "        Bataviasalat\n"
     ]
    },
    {
     "data": {
      "text/html": [
       "<img src=\"https://images.eatsmarter.de/sites/default/files/styles/576x432/public/warenkunde_bataviasalat_341x256.jpg\"/>"
      ],
      "text/plain": [
       "<IPython.core.display.Image object>"
      ]
     },
     "metadata": {},
     "output_type": "display_data"
    },
    {
     "data": {
      "text/html": [
       "<img src=\"https://images.eatsmarter.de/sites/default/files/styles/facebook/public/warenkunde_bataviasalat_341x256.jpg\"/>"
      ],
      "text/plain": [
       "<IPython.core.display.Image object>"
      ]
     },
     "metadata": {},
     "output_type": "display_data"
    },
    {
     "data": {
      "text/html": [
       "<img src=\"https://www.chefsculinar.de/chefsculinar/ds_img/assets_800/wk-01-bataviasalat.jpg\"/>"
      ],
      "text/plain": [
       "<IPython.core.display.Image object>"
      ]
     },
     "metadata": {},
     "output_type": "display_data"
    },
    {
     "name": "stdout",
     "output_type": "stream",
     "text": [
      "        Blumenkohl\n"
     ]
    },
    {
     "data": {
      "text/html": [
       "<img src=\"https://images.eatsmarter.de/sites/default/files/styles/576x432/public/images/warenkunde-blumenkohl_341x256.jpg\"/>"
      ],
      "text/plain": [
       "<IPython.core.display.Image object>"
      ]
     },
     "metadata": {},
     "output_type": "display_data"
    },
    {
     "data": {
      "text/html": [
       "<img src=\"https://img.lebensmittelinfo.net/assets/blumenkohl-170.jpg\"/>"
      ],
      "text/plain": [
       "<IPython.core.display.Image object>"
      ]
     },
     "metadata": {},
     "output_type": "display_data"
    },
    {
     "data": {
      "text/html": [
       "<img src=\"https://upload.wikimedia.org/wikipedia/commons/thumb/7/78/Blumenkohl-1.jpg/1200px-Blumenkohl-1.jpg\"/>"
      ],
      "text/plain": [
       "<IPython.core.display.Image object>"
      ]
     },
     "metadata": {},
     "output_type": "display_data"
    },
    {
     "name": "stdout",
     "output_type": "stream",
     "text": [
      "        DickeBohnen\n"
     ]
    },
    {
     "data": {
      "text/html": [
       "<img src=\"https://static.chefkoch-cdn.de/ck.de/rezepte/97/97402/870155-960x720-dicke-bohnen-mit-speck-und-salzkartoffeln.jpg\"/>"
      ],
      "text/plain": [
       "<IPython.core.display.Image object>"
      ]
     },
     "metadata": {},
     "output_type": "display_data"
    },
    {
     "data": {
      "text/html": [
       "<img src=\"http://www.huettenhilfe.de/wp-content/uploads/2008/02/dicke-bohnen-mit-kohlwurst.jpg\"/>"
      ],
      "text/plain": [
       "<IPython.core.display.Image object>"
      ]
     },
     "metadata": {},
     "output_type": "display_data"
    },
    {
     "data": {
      "text/html": [
       "<img src=\"https://images.eatsmarter.de/sites/default/files/styles/576x432/public/dicke-bohnen-warenkunde-300-225.jpg\"/>"
      ],
      "text/plain": [
       "<IPython.core.display.Image object>"
      ]
     },
     "metadata": {},
     "output_type": "display_data"
    },
    {
     "name": "stdout",
     "output_type": "stream",
     "text": [
      "        Bohnen\n"
     ]
    },
    {
     "data": {
      "text/html": [
       "<img src=\"https://images.eatsmarter.de/sites/default/files/styles/576x432/public/warenkunde-gruene-bohnen-300x225.jpg\"/>"
      ],
      "text/plain": [
       "<IPython.core.display.Image object>"
      ]
     },
     "metadata": {},
     "output_type": "display_data"
    },
    {
     "data": {
      "text/html": [
       "<img src=\"https://www.lebensmittellexikon.de/bilder/trockenbohnen-getrocknete-bohnen.jpg.gz\"/>"
      ],
      "text/plain": [
       "<IPython.core.display.Image object>"
      ]
     },
     "metadata": {},
     "output_type": "display_data"
    },
    {
     "data": {
      "text/html": [
       "<img src=\"https://www.smarticular.net/wp-content/uploads/2015/08/fb-bohnen-gesundes-lebensmittel.jpg\"/>"
      ],
      "text/plain": [
       "<IPython.core.display.Image object>"
      ]
     },
     "metadata": {},
     "output_type": "display_data"
    },
    {
     "name": "stdout",
     "output_type": "stream",
     "text": [
      "        Broccoli\n"
     ]
    },
    {
     "data": {
      "text/html": [
       "<img src=\"https://www.cookforyourlife.org/wp-content/uploads/2015/08/shutterstock_294838064-min.jpg\"/>"
      ],
      "text/plain": [
       "<IPython.core.display.Image object>"
      ]
     },
     "metadata": {},
     "output_type": "display_data"
    },
    {
     "data": {
      "text/html": [
       "<img src=\"https://i5.walmartimages.ca/images/Large/950/304/6000016950304.jpg?odnBound=460\"/>"
      ],
      "text/plain": [
       "<IPython.core.display.Image object>"
      ]
     },
     "metadata": {},
     "output_type": "display_data"
    },
    {
     "data": {
      "text/html": [
       "<img src=\"https://cdn.grofers.com/app/images/products/full_screen/pro_350796.jpg\"/>"
      ],
      "text/plain": [
       "<IPython.core.display.Image object>"
      ]
     },
     "metadata": {},
     "output_type": "display_data"
    },
    {
     "name": "stdout",
     "output_type": "stream",
     "text": [
      "        Brombeere\n"
     ]
    },
    {
     "data": {
      "text/html": [
       "<img src=\"https://www.mein-schoener-garten.de/sites/default/files/styles/square_s/public/brombeere-2060975-blp-fotolia.jpg?h=f2435d80&itok=kIsrxo1X\"/>"
      ],
      "text/plain": [
       "<IPython.core.display.Image object>"
      ]
     },
     "metadata": {},
     "output_type": "display_data"
    },
    {
     "data": {
      "text/html": [
       "<img src=\"https://upload.wikimedia.org/wikipedia/commons/thumb/8/83/Brombeere_0815-23.jpg/1200px-Brombeere_0815-23.jpg\"/>"
      ],
      "text/plain": [
       "<IPython.core.display.Image object>"
      ]
     },
     "metadata": {},
     "output_type": "display_data"
    },
    {
     "data": {
      "text/html": [
       "<img src=\"https://www.kochschule.de/sites/default/files/images/kochwissen/429/brombeere.jpg\"/>"
      ],
      "text/plain": [
       "<IPython.core.display.Image object>"
      ]
     },
     "metadata": {},
     "output_type": "display_data"
    },
    {
     "name": "stdout",
     "output_type": "stream",
     "text": [
      "        Eichblattsalat\n"
     ]
    },
    {
     "data": {
      "text/html": [
       "<img src=\"https://images.eatsmarter.de/sites/default/files/styles/facebook/public/warenkunde_eichblattsalat_341x256.jpg\"/>"
      ],
      "text/plain": [
       "<IPython.core.display.Image object>"
      ]
     },
     "metadata": {},
     "output_type": "display_data"
    },
    {
     "data": {
      "text/html": [
       "<img src=\"http://www.gomeal.de/uploaded_img/Eichblattsalat.jpg\"/>"
      ],
      "text/plain": [
       "<IPython.core.display.Image object>"
      ]
     },
     "metadata": {},
     "output_type": "display_data"
    },
    {
     "data": {
      "text/html": [
       "<img src=\"http://www.lecker.de/assets/styles/563x422/public/lecker/warenkunde/salat_1/eichblattsalat/hbv_1576/eichblattsalat.jpg?itok=5eUWiLDD\"/>"
      ],
      "text/plain": [
       "<IPython.core.display.Image object>"
      ]
     },
     "metadata": {},
     "output_type": "display_data"
    },
    {
     "name": "stdout",
     "output_type": "stream",
     "text": [
      "        Eisbergsalat\n"
     ]
    },
    {
     "data": {
      "text/html": [
       "<img src=\"http://www.pastaweb.de/wp-content/uploads/2016/03/eisbergsalat.jpg\"/>"
      ],
      "text/plain": [
       "<IPython.core.display.Image object>"
      ]
     },
     "metadata": {},
     "output_type": "display_data"
    },
    {
     "data": {
      "text/html": [
       "<img src=\"https://images.eatsmarter.de/sites/default/files/styles/576x432/public/warenkunde_eisbergsalat_341x256.jpg\"/>"
      ],
      "text/plain": [
       "<IPython.core.display.Image object>"
      ]
     },
     "metadata": {},
     "output_type": "display_data"
    },
    {
     "data": {
      "text/html": [
       "<img src=\"https://upload.wikimedia.org/wikipedia/commons/thumb/e/e2/Iceberg2.jpg/220px-Iceberg2.jpg\"/>"
      ],
      "text/plain": [
       "<IPython.core.display.Image object>"
      ]
     },
     "metadata": {},
     "output_type": "display_data"
    },
    {
     "name": "stdout",
     "output_type": "stream",
     "text": [
      "        Erbsen\n"
     ]
    },
    {
     "data": {
      "text/html": [
       "<img src=\"https://images.eatsmarter.de/sites/default/files/styles/576x432/public/warenkunde-erbsen-300x225.jpg\"/>"
      ],
      "text/plain": [
       "<IPython.core.display.Image object>"
      ]
     },
     "metadata": {},
     "output_type": "display_data"
    },
    {
     "data": {
      "text/html": [
       "<img src=\"https://www.gartenjournal.net/wp-content/uploads/Erbsen-Sorten.jpg\"/>"
      ],
      "text/plain": [
       "<IPython.core.display.Image object>"
      ]
     },
     "metadata": {},
     "output_type": "display_data"
    },
    {
     "data": {
      "text/html": [
       "<img src=\"http://www.duden.de/_media_/full/E/Erbse-201100279308.jpg\"/>"
      ],
      "text/plain": [
       "<IPython.core.display.Image object>"
      ]
     },
     "metadata": {},
     "output_type": "display_data"
    },
    {
     "name": "stdout",
     "output_type": "stream",
     "text": [
      "        Erdbeere\n"
     ]
    },
    {
     "data": {
      "text/html": [
       "<img src=\"https://images.eatsmarter.de/sites/default/files/styles/576x432/public/images/sind-erdbeere-nuesse-341x256.jpg\"/>"
      ],
      "text/plain": [
       "<IPython.core.display.Image object>"
      ]
     },
     "metadata": {},
     "output_type": "display_data"
    },
    {
     "data": {
      "text/html": [
       "<img src=\"http://www.worldsoffood.de/media/k2/items/cache/a121e39f639f5564abd14d939cc78407_L.jpg\"/>"
      ],
      "text/plain": [
       "<IPython.core.display.Image object>"
      ]
     },
     "metadata": {},
     "output_type": "display_data"
    },
    {
     "data": {
      "text/html": [
       "<img src=\"https://www.tropifruit.de/wp-content/uploads/2015/05/Fotolia_52584488_M.jpg\"/>"
      ],
      "text/plain": [
       "<IPython.core.display.Image object>"
      ]
     },
     "metadata": {},
     "output_type": "display_data"
    },
    {
     "name": "stdout",
     "output_type": "stream",
     "text": [
      "        Gurken\n"
     ]
    },
    {
     "data": {
      "text/html": [
       "<img src=\"https://images.eatsmarter.de/sites/default/files/styles/576x432/public/warenkunde-gurken-300x225.jpg\"/>"
      ],
      "text/plain": [
       "<IPython.core.display.Image object>"
      ]
     },
     "metadata": {},
     "output_type": "display_data"
    },
    {
     "data": {
      "text/html": [
       "<img src=\"http://static.giga.de/wp-content/uploads/2015/12/shutterstock_82642027.jpg\"/>"
      ],
      "text/plain": [
       "<IPython.core.display.Image object>"
      ]
     },
     "metadata": {},
     "output_type": "display_data"
    },
    {
     "data": {
      "text/html": [
       "<img src=\"http://www.kalorien-guide.de/images/gurke-kalorien.jpg\"/>"
      ],
      "text/plain": [
       "<IPython.core.display.Image object>"
      ]
     },
     "metadata": {},
     "output_type": "display_data"
    },
    {
     "name": "stdout",
     "output_type": "stream",
     "text": [
      "        Heidelbeere\n"
     ]
    },
    {
     "data": {
      "text/html": [
       "<img src=\"https://upload.wikimedia.org/wikipedia/commons/thumb/d/d0/Bieszczady_Flora.jpg/300px-Bieszczady_Flora.jpg\"/>"
      ],
      "text/plain": [
       "<IPython.core.display.Image object>"
      ]
     },
     "metadata": {},
     "output_type": "display_data"
    },
    {
     "data": {
      "text/html": [
       "<img src=\"https://upload.wikimedia.org/wikipedia/commons/thumb/2/2a/Bl%C3%A5b%C3%A6r_2.jpg/220px-Bl%C3%A5b%C3%A6r_2.jpg\"/>"
      ],
      "text/plain": [
       "<IPython.core.display.Image object>"
      ]
     },
     "metadata": {},
     "output_type": "display_data"
    },
    {
     "data": {
      "text/html": [
       "<img src=\"http://www.bivano.com/fileadmin/images/bivano/heidelbeere-gross.jpg\"/>"
      ],
      "text/plain": [
       "<IPython.core.display.Image object>"
      ]
     },
     "metadata": {},
     "output_type": "display_data"
    },
    {
     "name": "stdout",
     "output_type": "stream",
     "text": [
      "        Himbeere\n"
     ]
    },
    {
     "data": {
      "text/html": [
       "<img src=\"https://www.kochschule.de/sites/default/files/images/kochwissen/438/himbeere.jpg\"/>"
      ],
      "text/plain": [
       "<IPython.core.display.Image object>"
      ]
     },
     "metadata": {},
     "output_type": "display_data"
    },
    {
     "data": {
      "text/html": [
       "<img src=\"https://upload.wikimedia.org/wikipedia/commons/c/c9/Himbeere.jpg\"/>"
      ],
      "text/plain": [
       "<IPython.core.display.Image object>"
      ]
     },
     "metadata": {},
     "output_type": "display_data"
    },
    {
     "data": {
      "text/html": [
       "<img src=\"https://www.fid-gesundheitswissen.de/wp-content/uploads/2016/03/csm_Himbeeren___Natika_Fotolia_52154905_Subscription_XL_0fb8e61279.jpg\"/>"
      ],
      "text/plain": [
       "<IPython.core.display.Image object>"
      ]
     },
     "metadata": {},
     "output_type": "display_data"
    },
    {
     "name": "stdout",
     "output_type": "stream",
     "text": [
      "        Johannisbeere\n"
     ]
    },
    {
     "data": {
      "text/html": [
       "<img src=\"https://www.mein-schoener-garten.de/sites/default/files/styles/paragraph_image_left_s/public/johannisbeeren-rot-jonkheer-2045754-blp-fotolia_0.jpg?itok=JeroTr0b\"/>"
      ],
      "text/plain": [
       "<IPython.core.display.Image object>"
      ]
     },
     "metadata": {},
     "output_type": "display_data"
    },
    {
     "data": {
      "text/html": [
       "<img src=\"https://upload.wikimedia.org/wikipedia/commons/thumb/8/8d/Ribes_rubrum_a1.jpg/300px-Ribes_rubrum_a1.jpg\"/>"
      ],
      "text/plain": [
       "<IPython.core.display.Image object>"
      ]
     },
     "metadata": {},
     "output_type": "display_data"
    },
    {
     "data": {
      "text/html": [
       "<img src=\"https://www.kochschule.de/sites/default/files/images/kochwissen/469/johannisbeere.jpg\"/>"
      ],
      "text/plain": [
       "<IPython.core.display.Image object>"
      ]
     },
     "metadata": {},
     "output_type": "display_data"
    },
    {
     "name": "stdout",
     "output_type": "stream",
     "text": [
      "        Sauerkirschen\n"
     ]
    },
    {
     "data": {
      "text/html": [
       "<img src=\"http://www.bluthochdruck-hilfe.net/sauerkirsche-bluthochdruck-cs0.jpg\"/>"
      ],
      "text/plain": [
       "<IPython.core.display.Image object>"
      ]
     },
     "metadata": {},
     "output_type": "display_data"
    },
    {
     "data": {
      "text/html": [
       "<img src=\"http://1.bp.blogspot.com/-phwDFrgahwI/Vby7-d0TyVI/AAAAAAAABAA/uTTkFZcvBac/s1600/cherry-167341%2528Hans_pixabay.com%2529.jpg\"/>"
      ],
      "text/plain": [
       "<IPython.core.display.Image object>"
      ]
     },
     "metadata": {},
     "output_type": "display_data"
    },
    {
     "data": {
      "text/html": [
       "<img src=\"http://ais.badische-zeitung.de/piece/05/4f/46/89/89081481.jpg\"/>"
      ],
      "text/plain": [
       "<IPython.core.display.Image object>"
      ]
     },
     "metadata": {},
     "output_type": "display_data"
    },
    {
     "name": "stdout",
     "output_type": "stream",
     "text": [
      "        Suesskirschen\n"
     ]
    },
    {
     "data": {
      "text/html": [
       "<img src=\"http://www.obst-trautner.de/images/l_suesskirschen.jpg\"/>"
      ],
      "text/plain": [
       "<IPython.core.display.Image object>"
      ]
     },
     "metadata": {},
     "output_type": "display_data"
    },
    {
     "data": {
      "text/html": [
       "<img src=\"https://www.lubera.com/bilder/rot/produkte_1200/suesskirsche-lapins-erste-selbstfruchtbare-kirschensorte-mit-guter-qualitaet-272.jpg\"/>"
      ],
      "text/plain": [
       "<IPython.core.display.Image object>"
      ]
     },
     "metadata": {},
     "output_type": "display_data"
    },
    {
     "data": {
      "text/html": [
       "<img src=\"https://www.kochen-mit-butter.de/wp-content/uploads/2013/05/S%C3%BC%C3%9Fkirschen.jpg\"/>"
      ],
      "text/plain": [
       "<IPython.core.display.Image object>"
      ]
     },
     "metadata": {},
     "output_type": "display_data"
    },
    {
     "name": "stdout",
     "output_type": "stream",
     "text": [
      "        Kohlrabi\n"
     ]
    },
    {
     "data": {
      "text/html": [
       "<img src=\"https://images.eatsmarter.de/sites/default/files/styles/576x432/public/images/warenkunde_kohlrabi341x256.jpg\"/>"
      ],
      "text/plain": [
       "<IPython.core.display.Image object>"
      ]
     },
     "metadata": {},
     "output_type": "display_data"
    },
    {
     "data": {
      "text/html": [
       "<img src=\"https://upload.wikimedia.org/wikipedia/commons/thumb/6/6f/Koolrabi_%28Brassica_oleracea_convar._acephala_alef._var._gongylodes%29.jpg/1200px-Koolrabi_%28Brassica_oleracea_convar._acephala_alef._var._gongylodes%29.jpg\"/>"
      ],
      "text/plain": [
       "<IPython.core.display.Image object>"
      ]
     },
     "metadata": {},
     "output_type": "display_data"
    },
    {
     "data": {
      "text/html": [
       "<img src=\"https://cdn.pixabay.com/photo/2013/01/08/01/20/kohlrabi-74276_960_720.jpg\"/>"
      ],
      "text/plain": [
       "<IPython.core.display.Image object>"
      ]
     },
     "metadata": {},
     "output_type": "display_data"
    },
    {
     "name": "stdout",
     "output_type": "stream",
     "text": [
      "        Kopfsalat\n"
     ]
    },
    {
     "data": {
      "text/html": [
       "<img src=\"https://images.eatsmarter.de/sites/default/files/styles/576x432/public/warenkunde_kopfsalat_c_mp2_341x256.jpg\"/>"
      ],
      "text/plain": [
       "<IPython.core.display.Image object>"
      ]
     },
     "metadata": {},
     "output_type": "display_data"
    },
    {
     "data": {
      "text/html": [
       "<img src=\"https://cdn.gruenesmoothies.org/wp-content/uploads/53590332_kopfsalat-klein.jpg\"/>"
      ],
      "text/plain": [
       "<IPython.core.display.Image object>"
      ]
     },
     "metadata": {},
     "output_type": "display_data"
    },
    {
     "data": {
      "text/html": [
       "<img src=\"https://www.bonduelle.de/sites/default/files/styles/425x425/public/images/Warenkunde/09-15/kopfsalat_640x640.jpg?itok=4ioLMQqy\"/>"
      ],
      "text/plain": [
       "<IPython.core.display.Image object>"
      ]
     },
     "metadata": {},
     "output_type": "display_data"
    },
    {
     "name": "stdout",
     "output_type": "stream",
     "text": [
      "        LolloRosso\n"
     ]
    },
    {
     "data": {
      "text/html": [
       "<img src=\"https://img.rewe-static.de/0482846/24570708_digital-image.png?resize=600px:600px\"/>"
      ],
      "text/plain": [
       "<IPython.core.display.Image object>"
      ]
     },
     "metadata": {},
     "output_type": "display_data"
    },
    {
     "data": {
      "text/html": [
       "<img src=\"https://media.istockphoto.com/photos/lollo-rosso-lettuce-on-white-picture-id118911303?k=6&m=118911303&s=612x612&w=0&h=tMP30PqRgEKO1vE3rOF-apWf3CmTVVj1WUZw31KTWRo=\"/>"
      ],
      "text/plain": [
       "<IPython.core.display.Image object>"
      ]
     },
     "metadata": {},
     "output_type": "display_data"
    },
    {
     "data": {
      "text/html": [
       "<img src=\"https://images.eatsmarter.de/sites/default/files/styles/facebook/public/warenkund_lollo-rosso_341x256.jpg\"/>"
      ],
      "text/plain": [
       "<IPython.core.display.Image object>"
      ]
     },
     "metadata": {},
     "output_type": "display_data"
    },
    {
     "name": "stdout",
     "output_type": "stream",
     "text": [
      "        Mais\n"
     ]
    },
    {
     "data": {
      "text/html": [
       "<img src=\"http://www.pastaweb.de/wp-content/uploads/2015/11/mais.jpg\"/>"
      ],
      "text/plain": [
       "<IPython.core.display.Image object>"
      ]
     },
     "metadata": {},
     "output_type": "display_data"
    },
    {
     "data": {
      "text/html": [
       "<img src=\"http://www.duden.de/_media_/full/M/Mais-201020408073.jpg\"/>"
      ],
      "text/plain": [
       "<IPython.core.display.Image object>"
      ]
     },
     "metadata": {},
     "output_type": "display_data"
    },
    {
     "data": {
      "text/html": [
       "<img src=\"http://www.lebosol.de/wp-content/uploads/2016/12/mais_schmuck-1600x1067.jpg\"/>"
      ],
      "text/plain": [
       "<IPython.core.display.Image object>"
      ]
     },
     "metadata": {},
     "output_type": "display_data"
    },
    {
     "name": "stdout",
     "output_type": "stream",
     "text": [
      "        Mangold\n"
     ]
    },
    {
     "data": {
      "text/html": [
       "<img src=\"https://upload.wikimedia.org/wikipedia/commons/thumb/8/86/Mangold_z01.JPG/220px-Mangold_z01.JPG\"/>"
      ],
      "text/plain": [
       "<IPython.core.display.Image object>"
      ]
     },
     "metadata": {},
     "output_type": "display_data"
    },
    {
     "data": {
      "text/html": [
       "<img src=\"https://images.eatsmarter.de/sites/default/files/styles/facebook/public/images/mangold-341-256.jpg\"/>"
      ],
      "text/plain": [
       "<IPython.core.display.Image object>"
      ]
     },
     "metadata": {},
     "output_type": "display_data"
    },
    {
     "data": {
      "text/html": [
       "<img src=\"http://static1.essen-und-trinken.de/uploads/thumbnails_wlcp/560/0003/00000000003/20/79/207927_Mangold_3.jpg.cache\"/>"
      ],
      "text/plain": [
       "<IPython.core.display.Image object>"
      ]
     },
     "metadata": {},
     "output_type": "display_data"
    },
    {
     "name": "stdout",
     "output_type": "stream",
     "text": [
      "        Mirabelle\n"
     ]
    },
    {
     "data": {
      "text/html": [
       "<img src=\"http://www.budgetplant.de/media/catalog/product/cache/all/image/9df78eab33525d08d6e5fb8d27136e95/1/1/117_1.jpg\"/>"
      ],
      "text/plain": [
       "<IPython.core.display.Image object>"
      ]
     },
     "metadata": {},
     "output_type": "display_data"
    },
    {
     "data": {
      "text/html": [
       "<img src=\"https://upload.wikimedia.org/wikipedia/commons/thumb/c/c8/Koogan_2002-08-14-160212.jpg/220px-Koogan_2002-08-14-160212.jpg\"/>"
      ],
      "text/plain": [
       "<IPython.core.display.Image object>"
      ]
     },
     "metadata": {},
     "output_type": "display_data"
    },
    {
     "data": {
      "text/html": [
       "<img src=\"http://www.my-vb.com/img/assets/product_flavors/mirabelle.jpg\"/>"
      ],
      "text/plain": [
       "<IPython.core.display.Image object>"
      ]
     },
     "metadata": {},
     "output_type": "display_data"
    },
    {
     "name": "stdout",
     "output_type": "stream",
     "text": [
      "        Moehren\n"
     ]
    },
    {
     "data": {
      "text/html": [
       "<img src=\"https://images.eatsmarter.de/sites/default/files/styles/576x432/public/images/moehren-341x256.jpg\"/>"
      ],
      "text/plain": [
       "<IPython.core.display.Image object>"
      ]
     },
     "metadata": {},
     "output_type": "display_data"
    },
    {
     "data": {
      "text/html": [
       "<img src=\"https://images.eatsmarter.de/sites/default/files/styles/facebook/public/images/moehren-gut-fuer-die-augen-341x256.jpg\"/>"
      ],
      "text/plain": [
       "<IPython.core.display.Image object>"
      ]
     },
     "metadata": {},
     "output_type": "display_data"
    },
    {
     "data": {
      "text/html": [
       "<img src=\"https://www.rezepte-und-tipps.de/Lebensmittel/Gemuese/Moehren/Bilder/Moehren.jpg\"/>"
      ],
      "text/plain": [
       "<IPython.core.display.Image object>"
      ]
     },
     "metadata": {},
     "output_type": "display_data"
    },
    {
     "name": "stdout",
     "output_type": "stream",
     "text": [
      "        Postelein\n"
     ]
    },
    {
     "data": {
      "text/html": [
       "<img src=\"http://www.sannmann.com/fotos_titel/titel_postelein_02.jpg\"/>"
      ],
      "text/plain": [
       "<IPython.core.display.Image object>"
      ]
     },
     "metadata": {},
     "output_type": "display_data"
    },
    {
     "data": {
      "text/html": [
       "<img src=\"https://maxcdn1-nononsensecookin.netdna-ssl.com/wp-content/uploads/Postelein-1-S-D-698.jpg\"/>"
      ],
      "text/plain": [
       "<IPython.core.display.Image object>"
      ]
     },
     "metadata": {},
     "output_type": "display_data"
    },
    {
     "data": {
      "text/html": [
       "<img src=\"https://www.lekkervanbijons.be/sites/default/files/ps_image/postelein.jpg\"/>"
      ],
      "text/plain": [
       "<IPython.core.display.Image object>"
      ]
     },
     "metadata": {},
     "output_type": "display_data"
    },
    {
     "name": "stdout",
     "output_type": "stream",
     "text": [
      "        Pflaume\n"
     ]
    },
    {
     "data": {
      "text/html": [
       "<img src=\"https://www.gartenjournal.net/wp-content/uploads/Pflaume-Kernobst.jpg\"/>"
      ],
      "text/plain": [
       "<IPython.core.display.Image object>"
      ]
     },
     "metadata": {},
     "output_type": "display_data"
    },
    {
     "data": {
      "text/html": [
       "<img src=\"https://www.kochschule.de/sites/default/files/images/kochwissen/460/pflaumen.jpg\"/>"
      ],
      "text/plain": [
       "<IPython.core.display.Image object>"
      ]
     },
     "metadata": {},
     "output_type": "display_data"
    },
    {
     "data": {
      "text/html": [
       "<img src=\"https://bilder.t-online.de/b/78/70/79/70/id_78707970/610/tid_da/zwetschgen-links-und-pflaumen-rechts-sind-nahe-verwandte-doch-es-gibt-unterschiede-.jpg\"/>"
      ],
      "text/plain": [
       "<IPython.core.display.Image object>"
      ]
     },
     "metadata": {},
     "output_type": "display_data"
    },
    {
     "name": "stdout",
     "output_type": "stream",
     "text": [
      "        Radischen\n"
     ]
    },
    {
     "data": {
      "text/html": [
       "<img src=\"https://images.eatsmarter.de/sites/default/files/styles/facebook/public/warenkunde_radieschen_341x256_0.jpg\"/>"
      ],
      "text/plain": [
       "<IPython.core.display.Image object>"
      ]
     },
     "metadata": {},
     "output_type": "display_data"
    },
    {
     "data": {
      "text/html": [
       "<img src=\"https://www.essen-gesundheit.de/wp-content/uploads/2013/08/radieschen.jpg\"/>"
      ],
      "text/plain": [
       "<IPython.core.display.Image object>"
      ]
     },
     "metadata": {},
     "output_type": "display_data"
    },
    {
     "data": {
      "text/html": [
       "<img src=\"https://www.bonduelle.de/sites/default/files/styles/425x425/public/images/Warenkunde/09-15/radieschen_640x640.jpg?itok=s0h8xcmV\"/>"
      ],
      "text/plain": [
       "<IPython.core.display.Image object>"
      ]
     },
     "metadata": {},
     "output_type": "display_data"
    },
    {
     "name": "stdout",
     "output_type": "stream",
     "text": [
      "        Rettich\n"
     ]
    },
    {
     "data": {
      "text/html": [
       "<img src=\"https://images.eatsmarter.de/sites/default/files/styles/576x432/public/images/warenkunde-rettich_341x256.jpg\"/>"
      ],
      "text/plain": [
       "<IPython.core.display.Image object>"
      ]
     },
     "metadata": {},
     "output_type": "display_data"
    },
    {
     "data": {
      "text/html": [
       "<img src=\"http://www.paradisi.de/images_artikel/2/2960.jpg\"/>"
      ],
      "text/plain": [
       "<IPython.core.display.Image object>"
      ]
     },
     "metadata": {},
     "output_type": "display_data"
    },
    {
     "data": {
      "text/html": [
       "<img src=\"https://www.maggi.de/Lists/Maggi-Images/maggi-kochstudio/wissen/lexikon/MAGGI-lexikon-rettich.jpg\"/>"
      ],
      "text/plain": [
       "<IPython.core.display.Image object>"
      ]
     },
     "metadata": {},
     "output_type": "display_data"
    },
    {
     "name": "stdout",
     "output_type": "stream",
     "text": [
      "        Stachelbeeren\n"
     ]
    },
    {
     "data": {
      "text/html": [
       "<img src=\"https://images.eatsmarter.de/sites/default/files/styles/facebook/public/images/stachelbeeren_fotolia_7707011_xs.jpg\"/>"
      ],
      "text/plain": [
       "<IPython.core.display.Image object>"
      ]
     },
     "metadata": {},
     "output_type": "display_data"
    },
    {
     "data": {
      "text/html": [
       "<img src=\"https://upload.wikimedia.org/wikipedia/commons/4/4d/Stachelbeeren-WJP-1.jpg\"/>"
      ],
      "text/plain": [
       "<IPython.core.display.Image object>"
      ]
     },
     "metadata": {},
     "output_type": "display_data"
    },
    {
     "data": {
      "text/html": [
       "<img src=\"https://bilder.t-online.de/b/77/72/63/52/id_77726352/610/tid_da/stachelbeeren-sind-gesund-.jpg\"/>"
      ],
      "text/plain": [
       "<IPython.core.display.Image object>"
      ]
     },
     "metadata": {},
     "output_type": "display_data"
    },
    {
     "name": "stdout",
     "output_type": "stream",
     "text": [
      "        Stangensellerie\n"
     ]
    },
    {
     "data": {
      "text/html": [
       "<img src=\"https://www.mein-schoener-garten.de/sites/default/files/styles/og_image/public/Stangensellerie_3600630_blp_fotolia.jpg?h=4a7d1ed4&itok=BAVkXJfb\"/>"
      ],
      "text/plain": [
       "<IPython.core.display.Image object>"
      ]
     },
     "metadata": {},
     "output_type": "display_data"
    },
    {
     "data": {
      "text/html": [
       "<img src=\"https://www.maggi.de/Lists/Maggi-Images/maggi-kochstudio/wissen/kochtipps/MAGGI-kochtipps-stangensellerie-vorbereiten.jpg\"/>"
      ],
      "text/plain": [
       "<IPython.core.display.Image object>"
      ]
     },
     "metadata": {},
     "output_type": "display_data"
    },
    {
     "data": {
      "text/html": [
       "<img src=\"https://www.gesundheit.gv.at/GenticsImageStore/547/auto/prop/r/leben/ernaehrung/saisonkalender/Stangensellerie.jpg?owmsca&validation=094cf28c1f11069d9fe2aeab3503abbcf2e43ee11c88b8f7870e9745b03c9d58\"/>"
      ],
      "text/plain": [
       "<IPython.core.display.Image object>"
      ]
     },
     "metadata": {},
     "output_type": "display_data"
    },
    {
     "name": "stdout",
     "output_type": "stream",
     "text": [
      "        Wirsing\n"
     ]
    },
    {
     "data": {
      "text/html": [
       "<img src=\"https://static.essen-und-trinken.de/bilder/dc/cb/6148/galleryimage/c57bd05809847908db8e5307ce519b56.jpg\"/>"
      ],
      "text/plain": [
       "<IPython.core.display.Image object>"
      ]
     },
     "metadata": {},
     "output_type": "display_data"
    },
    {
     "data": {
      "text/html": [
       "<img src=\"https://static.chefkoch-cdn.de/ck.de/rezepte/42/42846/872834-420x280-fix-wirsing-eintopf.jpg\"/>"
      ],
      "text/plain": [
       "<IPython.core.display.Image object>"
      ]
     },
     "metadata": {},
     "output_type": "display_data"
    },
    {
     "data": {
      "text/html": [
       "<img src=\"http://lebensmittel-warenkunde.de/assets/images/gemueseprodukte/wirsing.jpg\"/>"
      ],
      "text/plain": [
       "<IPython.core.display.Image object>"
      ]
     },
     "metadata": {},
     "output_type": "display_data"
    },
    {
     "name": "stdout",
     "output_type": "stream",
     "text": [
      "        Zuccini\n"
     ]
    },
    {
     "data": {
      "text/html": [
       "<img src=\"https://upload.wikimedia.org/wikipedia/commons/thumb/9/92/CSA-Striped-Zucchini.jpg/1200px-CSA-Striped-Zucchini.jpg\"/>"
      ],
      "text/plain": [
       "<IPython.core.display.Image object>"
      ]
     },
     "metadata": {},
     "output_type": "display_data"
    },
    {
     "data": {
      "text/html": [
       "<img src=\"http://lebensmittel-warenkunde.de/assets/images/gemueseprodukte/zucchini.jpg\"/>"
      ],
      "text/plain": [
       "<IPython.core.display.Image object>"
      ]
     },
     "metadata": {},
     "output_type": "display_data"
    },
    {
     "data": {
      "text/html": [
       "<img src=\"https://simmel.de/system/html/shutterstock_94297381-56a43711.jpg\"/>"
      ],
      "text/plain": [
       "<IPython.core.display.Image object>"
      ]
     },
     "metadata": {},
     "output_type": "display_data"
    },
    {
     "name": "stdout",
     "output_type": "stream",
     "text": [
      "    wenig\n",
      "        Apfel\n"
     ]
    },
    {
     "data": {
      "text/html": [
       "<img src=\"https://www.uzuma.de/img/cms/Uzuma/Ingredients/Apple/GE/Apfel1.jpg\"/>"
      ],
      "text/plain": [
       "<IPython.core.display.Image object>"
      ]
     },
     "metadata": {},
     "output_type": "display_data"
    },
    {
     "data": {
      "text/html": [
       "<img src=\"https://cdn.gruenesmoothies.org/wp-content/uploads/56634773_apfel-klein.jpg\"/>"
      ],
      "text/plain": [
       "<IPython.core.display.Image object>"
      ]
     },
     "metadata": {},
     "output_type": "display_data"
    },
    {
     "data": {
      "text/html": [
       "<img src=\"https://images.eatsmarter.de/sites/default/files/styles/576x432/public/images/aepfel-341x256.jpg\"/>"
      ],
      "text/plain": [
       "<IPython.core.display.Image object>"
      ]
     },
     "metadata": {},
     "output_type": "display_data"
    },
    {
     "name": "stdout",
     "output_type": "stream",
     "text": [
      "        Aubergine\n"
     ]
    },
    {
     "data": {
      "text/html": [
       "<img src=\"http://deacademic.com/pictures/dewiki/65/Aubergine.jpg\"/>"
      ],
      "text/plain": [
       "<IPython.core.display.Image object>"
      ]
     },
     "metadata": {},
     "output_type": "display_data"
    },
    {
     "data": {
      "text/html": [
       "<img src=\"http://www.apotheken-umschau.de/multimedia/74/52/162/65003823121.jpg\"/>"
      ],
      "text/plain": [
       "<IPython.core.display.Image object>"
      ]
     },
     "metadata": {},
     "output_type": "display_data"
    },
    {
     "data": {
      "text/html": [
       "<img src=\"https://www.kochschule.de/sites/default/files/images/kochwissen/434/aubergine.jpg\"/>"
      ],
      "text/plain": [
       "<IPython.core.display.Image object>"
      ]
     },
     "metadata": {},
     "output_type": "display_data"
    },
    {
     "name": "stdout",
     "output_type": "stream",
     "text": [
      "        Chinakohl\n"
     ]
    },
    {
     "data": {
      "text/html": [
       "<img src=\"https://images.eatsmarter.de/sites/default/files/styles/facebook/public/chinakohl-300x225.jpg\"/>"
      ],
      "text/plain": [
       "<IPython.core.display.Image object>"
      ]
     },
     "metadata": {},
     "output_type": "display_data"
    },
    {
     "data": {
      "text/html": [
       "<img src=\"https://www.kochschule.de/sites/default/files/images/kochwissen/446/chinakohl_1.jpg\"/>"
      ],
      "text/plain": [
       "<IPython.core.display.Image object>"
      ]
     },
     "metadata": {},
     "output_type": "display_data"
    },
    {
     "data": {
      "text/html": [
       "<img src=\"http://www.gemuese.ch/Ressourcen/Bilder/Gemusearten/Gemusebilder-Header/Headerbilder_Saisonkalender_Chinakohl-de.jpg\"/>"
      ],
      "text/plain": [
       "<IPython.core.display.Image object>"
      ]
     },
     "metadata": {},
     "output_type": "display_data"
    },
    {
     "name": "stdout",
     "output_type": "stream",
     "text": [
      "        Endivie\n"
     ]
    },
    {
     "data": {
      "text/html": [
       "<img src=\"https://bilder.t-online.de/b/82/29/83/68/id_82298368/610/tid_da/endivien-koennen-problemlos-mehrere-tage-im-folienbeutel-im-kuehlschrank-gelagert-werden-.jpg\"/>"
      ],
      "text/plain": [
       "<IPython.core.display.Image object>"
      ]
     },
     "metadata": {},
     "output_type": "display_data"
    },
    {
     "data": {
      "text/html": [
       "<img src=\"https://www.pokewiki.de/images/thumb/0/0d/Sugimori_152.png/190px-Sugimori_152.png\"/>"
      ],
      "text/plain": [
       "<IPython.core.display.Image object>"
      ]
     },
     "metadata": {},
     "output_type": "display_data"
    },
    {
     "data": {
      "text/html": [
       "<img src=\"http://www.duden.de/_media_/full/E/Endivie-201020092382.jpg\"/>"
      ],
      "text/plain": [
       "<IPython.core.display.Image object>"
      ]
     },
     "metadata": {},
     "output_type": "display_data"
    },
    {
     "name": "stdout",
     "output_type": "stream",
     "text": [
      "        Fenchel\n"
     ]
    },
    {
     "data": {
      "text/html": [
       "<img src=\"https://images.eatsmarter.de/sites/default/files/styles/576x432/public/images/warenkunde-fenchel-341x256.jpg\"/>"
      ],
      "text/plain": [
       "<IPython.core.display.Image object>"
      ]
     },
     "metadata": {},
     "output_type": "display_data"
    },
    {
     "data": {
      "text/html": [
       "<img src=\"https://img.rewe-static.de/0483923/24570157_digital-image.png?resize=600px:600px\"/>"
      ],
      "text/plain": [
       "<IPython.core.display.Image object>"
      ]
     },
     "metadata": {},
     "output_type": "display_data"
    },
    {
     "data": {
      "text/html": [
       "<img src=\"https://www.apotheken-umschau.de/multimedia/115/226/295/55397498897.jpg\"/>"
      ],
      "text/plain": [
       "<IPython.core.display.Image object>"
      ]
     },
     "metadata": {},
     "output_type": "display_data"
    },
    {
     "name": "stdout",
     "output_type": "stream",
     "text": [
      "        Kartoffel\n"
     ]
    },
    {
     "data": {
      "text/html": [
       "<img src=\"https://images.eatsmarter.de/sites/default/files/styles/576x432/public/warenkunde-kartoffeln-600x450.jpg\"/>"
      ],
      "text/plain": [
       "<IPython.core.display.Image object>"
      ]
     },
     "metadata": {},
     "output_type": "display_data"
    },
    {
     "data": {
      "text/html": [
       "<img src=\"https://upload.wikimedia.org/wikipedia/commons/d/d9/Kartoffeln_Sorte_Nicola.jpg\"/>"
      ],
      "text/plain": [
       "<IPython.core.display.Image object>"
      ]
     },
     "metadata": {},
     "output_type": "display_data"
    },
    {
     "data": {
      "text/html": [
       "<img src=\"https://image.brigitte.de/10834782/uncropped-0-0/ed73b7c855c996720d2d98d38d26d210/LD/kartoffel.jpg\"/>"
      ],
      "text/plain": [
       "<IPython.core.display.Image object>"
      ]
     },
     "metadata": {},
     "output_type": "display_data"
    },
    {
     "name": "stdout",
     "output_type": "stream",
     "text": [
      "        Lauch\n"
     ]
    },
    {
     "data": {
      "text/html": [
       "<img src=\"http://www.gemuese.ch/Ressourcen/Bilder/Gemusearten/Gemusebilder-Header/Headerbilder_Saisonkalender_Lauch-de.jpg\"/>"
      ],
      "text/plain": [
       "<IPython.core.display.Image object>"
      ]
     },
     "metadata": {},
     "output_type": "display_data"
    },
    {
     "data": {
      "text/html": [
       "<img src=\"https://media.istockphoto.com/photos/leek-picture-id172164051?k=6&m=172164051&s=612x612&w=0&h=UuAfYSbaOiaMRYcVcAyiZpGoBBdCA6QT0keN2_DGSg8=\"/>"
      ],
      "text/plain": [
       "<IPython.core.display.Image object>"
      ]
     },
     "metadata": {},
     "output_type": "display_data"
    },
    {
     "data": {
      "text/html": [
       "<img src=\"https://media.istockphoto.com/photos/fresh-leeks-picture-id457448889?k=6&m=457448889&s=612x612&w=0&h=4ngIJNPuQYS8KGDREPdqCM-Jb2lPDFJVP5TcRbzU98A=\"/>"
      ],
      "text/plain": [
       "<IPython.core.display.Image object>"
      ]
     },
     "metadata": {},
     "output_type": "display_data"
    },
    {
     "name": "stdout",
     "output_type": "stream",
     "text": [
      "        Paprika\n"
     ]
    },
    {
     "data": {
      "text/html": [
       "<img src=\"http://www.duden.de/_media_/full/P/Paprika-201100284588.jpg\"/>"
      ],
      "text/plain": [
       "<IPython.core.display.Image object>"
      ]
     },
     "metadata": {},
     "output_type": "display_data"
    },
    {
     "data": {
      "text/html": [
       "<img src=\"http://www.agf.nl/nieuws/2017/paprika.jpg\"/>"
      ],
      "text/plain": [
       "<IPython.core.display.Image object>"
      ]
     },
     "metadata": {},
     "output_type": "display_data"
    },
    {
     "data": {
      "text/html": [
       "<img src=\"https://www.gommehd.net/forum/proxy.php?image=https%3A%2F%2Fwww.lebegesund.de%2Fpix%2Fproductphotos%2FPAPRIKA-FL_paprika-bunt.png&hash=db11535dc0c54bf48161d63c4632403d\"/>"
      ],
      "text/plain": [
       "<IPython.core.display.Image object>"
      ]
     },
     "metadata": {},
     "output_type": "display_data"
    },
    {
     "name": "stdout",
     "output_type": "stream",
     "text": [
      "        Rotkohl\n"
     ]
    },
    {
     "data": {
      "text/html": [
       "<img src=\"https://static.chefkoch-cdn.de/ck.de/rezepte/164/164844/880115-420x280-fix-blaukraut-rotkraut-rotkohl.jpg\"/>"
      ],
      "text/plain": [
       "<IPython.core.display.Image object>"
      ]
     },
     "metadata": {},
     "output_type": "display_data"
    },
    {
     "data": {
      "text/html": [
       "<img src=\"https://static.chefkoch-cdn.de/ck.de/rezepte/10/10942/531488-420x280-fix-rotkohl.jpg\"/>"
      ],
      "text/plain": [
       "<IPython.core.display.Image object>"
      ]
     },
     "metadata": {},
     "output_type": "display_data"
    },
    {
     "data": {
      "text/html": [
       "<img src=\"http://www.lecker.de/assets/field/image/rotkohl-selber-machen-b.jpg\"/>"
      ],
      "text/plain": [
       "<IPython.core.display.Image object>"
      ]
     },
     "metadata": {},
     "output_type": "display_data"
    },
    {
     "name": "stdout",
     "output_type": "stream",
     "text": [
      "        Spinat\n"
     ]
    },
    {
     "data": {
      "text/html": [
       "<img src=\"https://images.eatsmarter.de/sites/default/files/styles/576x432/public/warenkunde-spinat-300x225.jpg\"/>"
      ],
      "text/plain": [
       "<IPython.core.display.Image object>"
      ]
     },
     "metadata": {},
     "output_type": "display_data"
    },
    {
     "data": {
      "text/html": [
       "<img src=\"https://static.chefkoch-cdn.de/ck.de/rezepte/115/115192/507198-960x720-spinat.jpg\"/>"
      ],
      "text/plain": [
       "<IPython.core.display.Image object>"
      ]
     },
     "metadata": {},
     "output_type": "display_data"
    },
    {
     "data": {
      "text/html": [
       "<img src=\"https://vitamine-7ad1.kxcdn.com/thumbs/lebensmittel/spinat/vitamine-spinat-350x234-min.jpg\"/>"
      ],
      "text/plain": [
       "<IPython.core.display.Image object>"
      ]
     },
     "metadata": {},
     "output_type": "display_data"
    },
    {
     "name": "stdout",
     "output_type": "stream",
     "text": [
      "        Tomaten\n"
     ]
    },
    {
     "data": {
      "text/html": [
       "<img src=\"https://images.eatsmarter.de/sites/default/files/styles/576x432/public/images/fitte-fakten-tomaten-art.jpg\"/>"
      ],
      "text/plain": [
       "<IPython.core.display.Image object>"
      ]
     },
     "metadata": {},
     "output_type": "display_data"
    },
    {
     "data": {
      "text/html": [
       "<img src=\"http://www.pastaweb.de/wp-content/uploads/2016/02/tomaten.jpg\"/>"
      ],
      "text/plain": [
       "<IPython.core.display.Image object>"
      ]
     },
     "metadata": {},
     "output_type": "display_data"
    },
    {
     "data": {
      "text/html": [
       "<img src=\"https://img.lebensmittelinfo.net/assets/tomaten-101.jpg?w=460&h=320&fit=crop\"/>"
      ],
      "text/plain": [
       "<IPython.core.display.Image object>"
      ]
     },
     "metadata": {},
     "output_type": "display_data"
    },
    {
     "name": "stdout",
     "output_type": "stream",
     "text": [
      "        Spitzkohl\n"
     ]
    },
    {
     "data": {
      "text/html": [
       "<img src=\"https://static.essen-und-trinken.de/bilder/2d/93/17846/galleryimage/84f36fce7ab636af61c69c4e02b9dfd1.jpg\"/>"
      ],
      "text/plain": [
       "<IPython.core.display.Image object>"
      ]
     },
     "metadata": {},
     "output_type": "display_data"
    },
    {
     "data": {
      "text/html": [
       "<img src=\"https://images.eatsmarter.de/sites/default/files/styles/576x432/public/images/warenkunde-spitzkohl-341x256px.jpg\"/>"
      ],
      "text/plain": [
       "<IPython.core.display.Image object>"
      ]
     },
     "metadata": {},
     "output_type": "display_data"
    },
    {
     "data": {
      "text/html": [
       "<img src=\"https://upload.wikimedia.org/wikipedia/commons/thumb/c/c7/Spitzkohl-2.jpg/1200px-Spitzkohl-2.jpg\"/>"
      ],
      "text/plain": [
       "<IPython.core.display.Image object>"
      ]
     },
     "metadata": {},
     "output_type": "display_data"
    },
    {
     "name": "stdout",
     "output_type": "stream",
     "text": [
      "        Zwiebeln\n"
     ]
    },
    {
     "data": {
      "text/html": [
       "<img src=\"http://lebensmittel-warenkunde.de/assets/images/gemueseprodukte/zwiebeln.jpg\"/>"
      ],
      "text/plain": [
       "<IPython.core.display.Image object>"
      ]
     },
     "metadata": {},
     "output_type": "display_data"
    },
    {
     "data": {
      "text/html": [
       "<img src=\"https://www.swr.de/-/id=16698934/property=full/1qjgins/Zwiebel.gif\"/>"
      ],
      "text/plain": [
       "<IPython.core.display.Image object>"
      ]
     },
     "metadata": {},
     "output_type": "display_data"
    },
    {
     "data": {
      "text/html": [
       "<img src=\"https://images.eatsmarter.de/sites/default/files/styles/576x432/public/images/zwiebeln-gesund-341x256.jpg\"/>"
      ],
      "text/plain": [
       "<IPython.core.display.Image object>"
      ]
     },
     "metadata": {},
     "output_type": "display_data"
    },
    {
     "name": "stdout",
     "output_type": "stream",
     "text": [
      "    lager\n",
      "\n",
      "December\n",
      "    viel\n",
      "        Chicoree\n"
     ]
    },
    {
     "data": {
      "text/html": [
       "<img src=\"https://images.eatsmarter.de/sites/default/files/styles/576x432/public/images/warenkunde-chicoree-341x256.jpg\"/>"
      ],
      "text/plain": [
       "<IPython.core.display.Image object>"
      ]
     },
     "metadata": {},
     "output_type": "display_data"
    },
    {
     "data": {
      "text/html": [
       "<img src=\"https://www.lebensmittellexikon.de/bilder/chicoree.jpg.gz\"/>"
      ],
      "text/plain": [
       "<IPython.core.display.Image object>"
      ]
     },
     "metadata": {},
     "output_type": "display_data"
    },
    {
     "data": {
      "text/html": [
       "<img src=\"http://www.worldsoffood.de/media/k2/items/cache/bbf41833b752756eb34a4e07961dc06c_L.jpg\"/>"
      ],
      "text/plain": [
       "<IPython.core.display.Image object>"
      ]
     },
     "metadata": {},
     "output_type": "display_data"
    },
    {
     "name": "stdout",
     "output_type": "stream",
     "text": [
      "        Feldsalat\n"
     ]
    },
    {
     "data": {
      "text/html": [
       "<img src=\"https://images.eatsmarter.de/sites/default/files/styles/facebook/public/feldsalat_576x432.jpg\"/>"
      ],
      "text/plain": [
       "<IPython.core.display.Image object>"
      ]
     },
     "metadata": {},
     "output_type": "display_data"
    },
    {
     "data": {
      "text/html": [
       "<img src=\"https://static.essen-und-trinken.de/bilder/5f/a7/5372/galleryimage/5327756f577874da08803e028c7121d7.jpg\"/>"
      ],
      "text/plain": [
       "<IPython.core.display.Image object>"
      ]
     },
     "metadata": {},
     "output_type": "display_data"
    },
    {
     "data": {
      "text/html": [
       "<img src=\"http://www.pastaweb.de/wp-content/uploads/2016/02/feldsalat.jpg\"/>"
      ],
      "text/plain": [
       "<IPython.core.display.Image object>"
      ]
     },
     "metadata": {},
     "output_type": "display_data"
    },
    {
     "name": "stdout",
     "output_type": "stream",
     "text": [
      "        Gruenkohl\n"
     ]
    },
    {
     "data": {
      "text/html": [
       "<img src=\"https://static.chefkoch-cdn.de/ck.de/rezepte/23/23710/792035-960x720-gruenkohl-wie-ihn-mutter-kochte.jpg\"/>"
      ],
      "text/plain": [
       "<IPython.core.display.Image object>"
      ]
     },
     "metadata": {},
     "output_type": "display_data"
    },
    {
     "data": {
      "text/html": [
       "<img src=\"https://static.chefkoch-cdn.de/ck.de/rezepte/119/119646/520966-960x720-gruenkohl-mit-kasseler-mettwuerstchen-und-kartoffeln.jpg\"/>"
      ],
      "text/plain": [
       "<IPython.core.display.Image object>"
      ]
     },
     "metadata": {},
     "output_type": "display_data"
    },
    {
     "data": {
      "text/html": [
       "<img src=\"https://images.eatsmarter.de/sites/default/files/styles/576x432/public/images/warenkunde-gruenkohl_341x256px.jpg\"/>"
      ],
      "text/plain": [
       "<IPython.core.display.Image object>"
      ]
     },
     "metadata": {},
     "output_type": "display_data"
    },
    {
     "name": "stdout",
     "output_type": "stream",
     "text": [
      "        Rosenkohl\n"
     ]
    },
    {
     "data": {
      "text/html": [
       "<img src=\"https://upload.wikimedia.org/wikipedia/commons/thumb/d/d3/Rosenkohl-2.jpg/1200px-Rosenkohl-2.jpg\"/>"
      ],
      "text/plain": [
       "<IPython.core.display.Image object>"
      ]
     },
     "metadata": {},
     "output_type": "display_data"
    },
    {
     "data": {
      "text/html": [
       "<img src=\"http://www.lecker.de/assets/styles/563x422/public/rosenkohl-putzen-2.jpg?itok=ckLpMxyo\"/>"
      ],
      "text/plain": [
       "<IPython.core.display.Image object>"
      ]
     },
     "metadata": {},
     "output_type": "display_data"
    },
    {
     "data": {
      "text/html": [
       "<img src=\"https://liebeisstleben.com/wp-content/uploads/2016/12/Rosenkohl-e1481219509876.jpg\"/>"
      ],
      "text/plain": [
       "<IPython.core.display.Image object>"
      ]
     },
     "metadata": {},
     "output_type": "display_data"
    },
    {
     "name": "stdout",
     "output_type": "stream",
     "text": [
      "    wenig\n",
      "        Chinakohl\n"
     ]
    },
    {
     "data": {
      "text/html": [
       "<img src=\"https://images.eatsmarter.de/sites/default/files/styles/facebook/public/chinakohl-300x225.jpg\"/>"
      ],
      "text/plain": [
       "<IPython.core.display.Image object>"
      ]
     },
     "metadata": {},
     "output_type": "display_data"
    },
    {
     "data": {
      "text/html": [
       "<img src=\"https://static.chefkoch-cdn.de/ck.de/rezepte/18/18007/732705-960x720-chinakohl-gemuese.jpg\"/>"
      ],
      "text/plain": [
       "<IPython.core.display.Image object>"
      ]
     },
     "metadata": {},
     "output_type": "display_data"
    },
    {
     "data": {
      "text/html": [
       "<img src=\"https://www.kochschule.de/sites/default/files/images/kochwissen/446/chinakohl_1.jpg\"/>"
      ],
      "text/plain": [
       "<IPython.core.display.Image object>"
      ]
     },
     "metadata": {},
     "output_type": "display_data"
    },
    {
     "name": "stdout",
     "output_type": "stream",
     "text": [
      "        Endivie\n"
     ]
    },
    {
     "data": {
      "text/html": [
       "<img src=\"https://bilder.t-online.de/b/82/29/83/68/id_82298368/610/tid_da/endivien-koennen-problemlos-mehrere-tage-im-folienbeutel-im-kuehlschrank-gelagert-werden-.jpg\"/>"
      ],
      "text/plain": [
       "<IPython.core.display.Image object>"
      ]
     },
     "metadata": {},
     "output_type": "display_data"
    },
    {
     "data": {
      "text/html": [
       "<img src=\"https://www.pokewiki.de/images/thumb/0/0d/Sugimori_152.png/190px-Sugimori_152.png\"/>"
      ],
      "text/plain": [
       "<IPython.core.display.Image object>"
      ]
     },
     "metadata": {},
     "output_type": "display_data"
    },
    {
     "data": {
      "text/html": [
       "<img src=\"http://www.duden.de/_media_/full/E/Endivie-201020092382.jpg\"/>"
      ],
      "text/plain": [
       "<IPython.core.display.Image object>"
      ]
     },
     "metadata": {},
     "output_type": "display_data"
    },
    {
     "name": "stdout",
     "output_type": "stream",
     "text": [
      "        Kuerbis\n"
     ]
    },
    {
     "data": {
      "text/html": [
       "<img src=\"https://images.eatsmarter.de/sites/default/files/styles/576x432/public/images/warenkunde-kuerbis-600x450.jpg\"/>"
      ],
      "text/plain": [
       "<IPython.core.display.Image object>"
      ]
     },
     "metadata": {},
     "output_type": "display_data"
    },
    {
     "data": {
      "text/html": [
       "<img src=\"https://utopia.de/content/uploads/2016/09/kuerbis-hokkaido-w-anitasstudio-160921-640x400.jpg\"/>"
      ],
      "text/plain": [
       "<IPython.core.display.Image object>"
      ]
     },
     "metadata": {},
     "output_type": "display_data"
    },
    {
     "data": {
      "text/html": [
       "<img src=\"https://images.eatsmarter.de/sites/default/files/styles/facebook/public/images/halloween-horror-art.jpg\"/>"
      ],
      "text/plain": [
       "<IPython.core.display.Image object>"
      ]
     },
     "metadata": {},
     "output_type": "display_data"
    },
    {
     "name": "stdout",
     "output_type": "stream",
     "text": [
      "        Postelein\n"
     ]
    },
    {
     "data": {
      "text/html": [
       "<img src=\"http://www.sannmann.com/fotos_titel/titel_postelein_02.jpg\"/>"
      ],
      "text/plain": [
       "<IPython.core.display.Image object>"
      ]
     },
     "metadata": {},
     "output_type": "display_data"
    },
    {
     "data": {
      "text/html": [
       "<img src=\"https://maxcdn1-nononsensecookin.netdna-ssl.com/wp-content/uploads/Postelein-1-S-D-698.jpg\"/>"
      ],
      "text/plain": [
       "<IPython.core.display.Image object>"
      ]
     },
     "metadata": {},
     "output_type": "display_data"
    },
    {
     "data": {
      "text/html": [
       "<img src=\"https://www.lekkervanbijons.be/sites/default/files/ps_image/postelein.jpg\"/>"
      ],
      "text/plain": [
       "<IPython.core.display.Image object>"
      ]
     },
     "metadata": {},
     "output_type": "display_data"
    },
    {
     "name": "stdout",
     "output_type": "stream",
     "text": [
      "        Patinaken\n"
     ]
    },
    {
     "data": {
      "text/html": [
       "<img src=\"https://mh-1-bildagentur.panthermedia.net/media/previews/0008000000/08025000/~patinaken_08025946_high.jpg\"/>"
      ],
      "text/plain": [
       "<IPython.core.display.Image object>"
      ]
     },
     "metadata": {},
     "output_type": "display_data"
    },
    {
     "data": {
      "text/html": [
       "<img src=\"http://c8.alamy.com/comp/HHNJD7/patinaken-HHNJD7.jpg\"/>"
      ],
      "text/plain": [
       "<IPython.core.display.Image object>"
      ]
     },
     "metadata": {},
     "output_type": "display_data"
    },
    {
     "data": {
      "text/html": [
       "<img src=\"http://c8.alamy.com/comp/HHNJ9G/patinaken-HHNJ9G.jpg\"/>"
      ],
      "text/plain": [
       "<IPython.core.display.Image object>"
      ]
     },
     "metadata": {},
     "output_type": "display_data"
    },
    {
     "name": "stdout",
     "output_type": "stream",
     "text": [
      "        Spinat\n"
     ]
    },
    {
     "data": {
      "text/html": [
       "<img src=\"https://images.eatsmarter.de/sites/default/files/styles/576x432/public/warenkunde-spinat-300x225.jpg\"/>"
      ],
      "text/plain": [
       "<IPython.core.display.Image object>"
      ]
     },
     "metadata": {},
     "output_type": "display_data"
    },
    {
     "data": {
      "text/html": [
       "<img src=\"https://static.chefkoch-cdn.de/ck.de/rezepte/115/115192/507198-960x720-spinat.jpg\"/>"
      ],
      "text/plain": [
       "<IPython.core.display.Image object>"
      ]
     },
     "metadata": {},
     "output_type": "display_data"
    },
    {
     "data": {
      "text/html": [
       "<img src=\"https://static.chefkoch-cdn.de/ck.de/rezepte/216/216222/955539-960x720-rahmspinat-aus-frischem-spinat.jpg\"/>"
      ],
      "text/plain": [
       "<IPython.core.display.Image object>"
      ]
     },
     "metadata": {},
     "output_type": "display_data"
    },
    {
     "name": "stdout",
     "output_type": "stream",
     "text": [
      "        Wirsing\n"
     ]
    },
    {
     "data": {
      "text/html": [
       "<img src=\"https://static.essen-und-trinken.de/bilder/dc/cb/6148/galleryimage/c57bd05809847908db8e5307ce519b56.jpg\"/>"
      ],
      "text/plain": [
       "<IPython.core.display.Image object>"
      ]
     },
     "metadata": {},
     "output_type": "display_data"
    },
    {
     "data": {
      "text/html": [
       "<img src=\"https://static.chefkoch-cdn.de/ck.de/rezepte/42/42846/872834-420x280-fix-wirsing-eintopf.jpg\"/>"
      ],
      "text/plain": [
       "<IPython.core.display.Image object>"
      ]
     },
     "metadata": {},
     "output_type": "display_data"
    },
    {
     "data": {
      "text/html": [
       "<img src=\"http://lebensmittel-warenkunde.de/assets/images/gemueseprodukte/wirsing.jpg\"/>"
      ],
      "text/plain": [
       "<IPython.core.display.Image object>"
      ]
     },
     "metadata": {},
     "output_type": "display_data"
    },
    {
     "name": "stdout",
     "output_type": "stream",
     "text": [
      "    lager\n",
      "        Apfel\n"
     ]
    },
    {
     "data": {
      "text/html": [
       "<img src=\"https://www.uzuma.de/img/cms/Uzuma/Ingredients/Apple/GE/Apfel1.jpg\"/>"
      ],
      "text/plain": [
       "<IPython.core.display.Image object>"
      ]
     },
     "metadata": {},
     "output_type": "display_data"
    },
    {
     "data": {
      "text/html": [
       "<img src=\"https://cdn.gruenesmoothies.org/wp-content/uploads/56634773_apfel-klein.jpg\"/>"
      ],
      "text/plain": [
       "<IPython.core.display.Image object>"
      ]
     },
     "metadata": {},
     "output_type": "display_data"
    },
    {
     "data": {
      "text/html": [
       "<img src=\"https://images.eatsmarter.de/sites/default/files/styles/576x432/public/images/aepfel-341x256.jpg\"/>"
      ],
      "text/plain": [
       "<IPython.core.display.Image object>"
      ]
     },
     "metadata": {},
     "output_type": "display_data"
    },
    {
     "name": "stdout",
     "output_type": "stream",
     "text": [
      "        Kartoffel\n"
     ]
    },
    {
     "data": {
      "text/html": [
       "<img src=\"https://images.eatsmarter.de/sites/default/files/styles/576x432/public/warenkunde-kartoffeln-600x450.jpg\"/>"
      ],
      "text/plain": [
       "<IPython.core.display.Image object>"
      ]
     },
     "metadata": {},
     "output_type": "display_data"
    },
    {
     "data": {
      "text/html": [
       "<img src=\"https://upload.wikimedia.org/wikipedia/commons/d/d9/Kartoffeln_Sorte_Nicola.jpg\"/>"
      ],
      "text/plain": [
       "<IPython.core.display.Image object>"
      ]
     },
     "metadata": {},
     "output_type": "display_data"
    },
    {
     "data": {
      "text/html": [
       "<img src=\"https://image.brigitte.de/10834782/uncropped-0-0/ed73b7c855c996720d2d98d38d26d210/LD/kartoffel.jpg\"/>"
      ],
      "text/plain": [
       "<IPython.core.display.Image object>"
      ]
     },
     "metadata": {},
     "output_type": "display_data"
    },
    {
     "name": "stdout",
     "output_type": "stream",
     "text": [
      "        Moehren\n"
     ]
    },
    {
     "data": {
      "text/html": [
       "<img src=\"https://images.eatsmarter.de/sites/default/files/styles/576x432/public/images/moehren-341x256.jpg\"/>"
      ],
      "text/plain": [
       "<IPython.core.display.Image object>"
      ]
     },
     "metadata": {},
     "output_type": "display_data"
    },
    {
     "data": {
      "text/html": [
       "<img src=\"https://images.eatsmarter.de/sites/default/files/styles/facebook/public/images/moehren-gut-fuer-die-augen-341x256.jpg\"/>"
      ],
      "text/plain": [
       "<IPython.core.display.Image object>"
      ]
     },
     "metadata": {},
     "output_type": "display_data"
    },
    {
     "data": {
      "text/html": [
       "<img src=\"https://www.rezepte-und-tipps.de/Lebensmittel/Gemuese/Moehren/Bilder/Moehren.jpg\"/>"
      ],
      "text/plain": [
       "<IPython.core.display.Image object>"
      ]
     },
     "metadata": {},
     "output_type": "display_data"
    },
    {
     "name": "stdout",
     "output_type": "stream",
     "text": [
      "        Rettich\n"
     ]
    },
    {
     "data": {
      "text/html": [
       "<img src=\"https://images.eatsmarter.de/sites/default/files/styles/576x432/public/images/warenkunde-rettich_341x256.jpg\"/>"
      ],
      "text/plain": [
       "<IPython.core.display.Image object>"
      ]
     },
     "metadata": {},
     "output_type": "display_data"
    },
    {
     "data": {
      "text/html": [
       "<img src=\"http://www.paradisi.de/images_artikel/2/2960.jpg\"/>"
      ],
      "text/plain": [
       "<IPython.core.display.Image object>"
      ]
     },
     "metadata": {},
     "output_type": "display_data"
    },
    {
     "data": {
      "text/html": [
       "<img src=\"https://www.maggi.de/Lists/Maggi-Images/maggi-kochstudio/wissen/lexikon/MAGGI-lexikon-rettich.jpg\"/>"
      ],
      "text/plain": [
       "<IPython.core.display.Image object>"
      ]
     },
     "metadata": {},
     "output_type": "display_data"
    },
    {
     "name": "stdout",
     "output_type": "stream",
     "text": [
      "        Rote_Beete\n"
     ]
    },
    {
     "data": {
      "text/html": [
       "<img src=\"https://www.wunderweib.de/assets/styles/article_image/public/field/image/991/rote-beete.jpg?itok=k82_JFIg\"/>"
      ],
      "text/plain": [
       "<IPython.core.display.Image object>"
      ]
     },
     "metadata": {},
     "output_type": "display_data"
    },
    {
     "data": {
      "text/html": [
       "<img src=\"http://www.wbehrens.com/uploads/pics/rote_beete.jpg\"/>"
      ],
      "text/plain": [
       "<IPython.core.display.Image object>"
      ]
     },
     "metadata": {},
     "output_type": "display_data"
    },
    {
     "data": {
      "text/html": [
       "<img src=\"https://snack-mich.de/img/cms/rote-beete-chips/reife-rote-beete.jpg\"/>"
      ],
      "text/plain": [
       "<IPython.core.display.Image object>"
      ]
     },
     "metadata": {},
     "output_type": "display_data"
    },
    {
     "name": "stdout",
     "output_type": "stream",
     "text": [
      "        Rotkohl\n"
     ]
    },
    {
     "data": {
      "text/html": [
       "<img src=\"https://static.chefkoch-cdn.de/ck.de/rezepte/164/164844/880115-420x280-fix-blaukraut-rotkraut-rotkohl.jpg\"/>"
      ],
      "text/plain": [
       "<IPython.core.display.Image object>"
      ]
     },
     "metadata": {},
     "output_type": "display_data"
    },
    {
     "data": {
      "text/html": [
       "<img src=\"https://static.chefkoch-cdn.de/ck.de/rezepte/10/10942/531488-420x280-fix-rotkohl.jpg\"/>"
      ],
      "text/plain": [
       "<IPython.core.display.Image object>"
      ]
     },
     "metadata": {},
     "output_type": "display_data"
    },
    {
     "data": {
      "text/html": [
       "<img src=\"http://www.lecker.de/assets/field/image/rotkohl-selber-machen-b.jpg\"/>"
      ],
      "text/plain": [
       "<IPython.core.display.Image object>"
      ]
     },
     "metadata": {},
     "output_type": "display_data"
    },
    {
     "name": "stdout",
     "output_type": "stream",
     "text": [
      "        Schwarzwurzeln\n"
     ]
    },
    {
     "data": {
      "text/html": [
       "<img src=\"https://www.kuechengoetter.de/uploads/media/630x630/01/48731-schwarzwurzeln-in-zitronenrahm.jpg?v=1-0\"/>"
      ],
      "text/plain": [
       "<IPython.core.display.Image object>"
      ]
     },
     "metadata": {},
     "output_type": "display_data"
    },
    {
     "data": {
      "text/html": [
       "<img src=\"https://static.chefkoch-cdn.de/ck.de/rezepte/74/74782/94325-960x720-schwarzwurzeln-in-zitronensosse.jpg\"/>"
      ],
      "text/plain": [
       "<IPython.core.display.Image object>"
      ]
     },
     "metadata": {},
     "output_type": "display_data"
    },
    {
     "data": {
      "text/html": [
       "<img src=\"https://static.chefkoch-cdn.de/ck.de/rezepte/85/85437/90583-960x720-schwarzwurzeln-in-buttersosse.jpg\"/>"
      ],
      "text/plain": [
       "<IPython.core.display.Image object>"
      ]
     },
     "metadata": {},
     "output_type": "display_data"
    },
    {
     "name": "stdout",
     "output_type": "stream",
     "text": [
      "        Sellerieknollen\n"
     ]
    },
    {
     "data": {
      "text/html": [
       "<img src=\"http://buuregarte.ch/wp-content/uploads/2017/07/Sellerie-Knollen.jpg\"/>"
      ],
      "text/plain": [
       "<IPython.core.display.Image object>"
      ]
     },
     "metadata": {},
     "output_type": "display_data"
    },
    {
     "data": {
      "text/html": [
       "<img src=\"http://www.hortipendium.de/images/thumb/b/b3/Sellerieknollen.JPG/250px-Sellerieknollen.JPG\"/>"
      ],
      "text/plain": [
       "<IPython.core.display.Image object>"
      ]
     },
     "metadata": {},
     "output_type": "display_data"
    },
    {
     "data": {
      "text/html": [
       "<img src=\"https://www.alnatura.de/~/media/Saisonkalender/Sellerieknollen.png?h=130&la=de-DE&w=130\"/>"
      ],
      "text/plain": [
       "<IPython.core.display.Image object>"
      ]
     },
     "metadata": {},
     "output_type": "display_data"
    },
    {
     "name": "stdout",
     "output_type": "stream",
     "text": [
      "        Spitzkohl\n"
     ]
    },
    {
     "data": {
      "text/html": [
       "<img src=\"https://static.essen-und-trinken.de/bilder/2d/93/17846/galleryimage/84f36fce7ab636af61c69c4e02b9dfd1.jpg\"/>"
      ],
      "text/plain": [
       "<IPython.core.display.Image object>"
      ]
     },
     "metadata": {},
     "output_type": "display_data"
    },
    {
     "data": {
      "text/html": [
       "<img src=\"https://images.eatsmarter.de/sites/default/files/styles/576x432/public/images/warenkunde-spitzkohl-341x256px.jpg\"/>"
      ],
      "text/plain": [
       "<IPython.core.display.Image object>"
      ]
     },
     "metadata": {},
     "output_type": "display_data"
    },
    {
     "data": {
      "text/html": [
       "<img src=\"https://upload.wikimedia.org/wikipedia/commons/thumb/c/c7/Spitzkohl-2.jpg/1200px-Spitzkohl-2.jpg\"/>"
      ],
      "text/plain": [
       "<IPython.core.display.Image object>"
      ]
     },
     "metadata": {},
     "output_type": "display_data"
    },
    {
     "name": "stdout",
     "output_type": "stream",
     "text": [
      "        Zwiebeln\n"
     ]
    },
    {
     "data": {
      "text/html": [
       "<img src=\"http://lebensmittel-warenkunde.de/assets/images/gemueseprodukte/zwiebeln.jpg\"/>"
      ],
      "text/plain": [
       "<IPython.core.display.Image object>"
      ]
     },
     "metadata": {},
     "output_type": "display_data"
    },
    {
     "data": {
      "text/html": [
       "<img src=\"https://www.swr.de/-/id=16698934/property=full/1qjgins/Zwiebel.gif\"/>"
      ],
      "text/plain": [
       "<IPython.core.display.Image object>"
      ]
     },
     "metadata": {},
     "output_type": "display_data"
    },
    {
     "data": {
      "text/html": [
       "<img src=\"https://images.eatsmarter.de/sites/default/files/styles/576x432/public/images/zwiebeln-gesund-341x256.jpg\"/>"
      ],
      "text/plain": [
       "<IPython.core.display.Image object>"
      ]
     },
     "metadata": {},
     "output_type": "display_data"
    },
    {
     "name": "stdout",
     "output_type": "stream",
     "text": [
      "\n"
     ]
    }
   ],
   "source": [
    "for mn, m in zip(monthnames, months):\n",
    "    if mn not in mm:\n",
    "        continue\n",
    "    print(mn)\n",
    "    \n",
    "    viel, wenig, lager = m.find_all('ul')\n",
    "    \n",
    "    for subn, sub in zip('viel, wenig, lager'. split(', '), [viel, wenig, lager]): \n",
    "        print('    '+subn)\n",
    "        for it in sub.find_all('li'):\n",
    "            res = it.find_all('a')[0].decode()\n",
    "            result = re.findall(r'\\/\\w*\\s*\\w*\\.png', res)[0].split()[0][1:]\n",
    "            print('        ' +result)\n",
    "            \n",
    "            ActualImages = get_images(result, 2)\n",
    "            ims = []\n",
    "            for im in ActualImages:\n",
    "                ims.append(Image(url=im[0]))\n",
    "            display(*ims)\n",
    "    print()"
   ]
  },
  {
   "cell_type": "code",
   "execution_count": null,
   "metadata": {
    "collapsed": true
   },
   "outputs": [],
   "source": []
  }
 ],
 "metadata": {
  "kernelspec": {
   "display_name": "Python [conda root]",
   "language": "python",
   "name": "conda-root-py"
  },
  "language_info": {
   "codemirror_mode": {
    "name": "ipython",
    "version": 3
   },
   "file_extension": ".py",
   "mimetype": "text/x-python",
   "name": "python",
   "nbconvert_exporter": "python",
   "pygments_lexer": "ipython3",
   "version": "3.5.0"
  }
 },
 "nbformat": 4,
 "nbformat_minor": 2
}
